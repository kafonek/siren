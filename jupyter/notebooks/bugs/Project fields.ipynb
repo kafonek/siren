{
 "cells": [
  {
   "cell_type": "markdown",
   "id": "ec1185c7",
   "metadata": {},
   "source": [
    "### Overview\n",
    "\n",
    "Siren is supposed to let you `project` fields from joined indices into your results table, akin to pulling fields from joined tables in traditional database queries -- e.g. `SELECT t1.*, t2.article.source FROM company as t1 JOIN article as t2 ON t1.id = t2.company`\n",
    "\n"
   ]
  },
  {
   "cell_type": "markdown",
   "id": "4f5cfd96",
   "metadata": {},
   "source": [
    "#### Notebook setup"
   ]
  },
  {
   "cell_type": "code",
   "execution_count": 1,
   "id": "263f20b9",
   "metadata": {
    "ExecuteTime": {
     "end_time": "2021-07-12T14:47:17.307163Z",
     "start_time": "2021-07-12T14:47:17.201134Z"
    }
   },
   "outputs": [
    {
     "data": {
      "application/javascript": [
       "\n",
       "            setTimeout(function() {\n",
       "                var nbb_cell_id = 1;\n",
       "                var nbb_unformatted_code = \"%load_ext nb_black\";\n",
       "                var nbb_formatted_code = \"%load_ext nb_black\";\n",
       "                var nbb_cells = Jupyter.notebook.get_cells();\n",
       "                for (var i = 0; i < nbb_cells.length; ++i) {\n",
       "                    if (nbb_cells[i].input_prompt_number == nbb_cell_id) {\n",
       "                        if (nbb_cells[i].get_text() == nbb_unformatted_code) {\n",
       "                             nbb_cells[i].set_text(nbb_formatted_code);\n",
       "                        }\n",
       "                        break;\n",
       "                    }\n",
       "                }\n",
       "            }, 500);\n",
       "            "
      ],
      "text/plain": [
       "<IPython.core.display.Javascript object>"
      ]
     },
     "metadata": {},
     "output_type": "display_data"
    }
   ],
   "source": [
    "%load_ext nb_black"
   ]
  },
  {
   "cell_type": "code",
   "execution_count": 2,
   "id": "9d71cefa",
   "metadata": {
    "ExecuteTime": {
     "end_time": "2021-07-12T14:47:17.768607Z",
     "start_time": "2021-07-12T14:47:17.310231Z"
    }
   },
   "outputs": [
    {
     "data": {
      "text/plain": [
       "<httpx.Client at 0x7f9c82dc3190>"
      ]
     },
     "execution_count": 2,
     "metadata": {},
     "output_type": "execute_result"
    },
    {
     "data": {
      "application/javascript": [
       "\n",
       "            setTimeout(function() {\n",
       "                var nbb_cell_id = 2;\n",
       "                var nbb_unformatted_code = \"import httpx\\n\\nclient = httpx.Client(\\n    base_url=\\\"https://siren:9220\\\",\\n    verify=False,\\n    auth=(\\\"sirenadmin\\\", \\\"password\\\"),\\n    headers={\\\"Content-Type\\\": \\\"application/json\\\"},\\n)\\nclient\";\n",
       "                var nbb_formatted_code = \"import httpx\\n\\nclient = httpx.Client(\\n    base_url=\\\"https://siren:9220\\\",\\n    verify=False,\\n    auth=(\\\"sirenadmin\\\", \\\"password\\\"),\\n    headers={\\\"Content-Type\\\": \\\"application/json\\\"},\\n)\\nclient\";\n",
       "                var nbb_cells = Jupyter.notebook.get_cells();\n",
       "                for (var i = 0; i < nbb_cells.length; ++i) {\n",
       "                    if (nbb_cells[i].input_prompt_number == nbb_cell_id) {\n",
       "                        if (nbb_cells[i].get_text() == nbb_unformatted_code) {\n",
       "                             nbb_cells[i].set_text(nbb_formatted_code);\n",
       "                        }\n",
       "                        break;\n",
       "                    }\n",
       "                }\n",
       "            }, 500);\n",
       "            "
      ],
      "text/plain": [
       "<IPython.core.display.Javascript object>"
      ]
     },
     "metadata": {},
     "output_type": "display_data"
    }
   ],
   "source": [
    "import httpx\n",
    "\n",
    "client = httpx.Client(\n",
    "    base_url=\"https://siren:9220\",\n",
    "    verify=False,\n",
    "    auth=(\"sirenadmin\", \"password\"),\n",
    "    headers={\"Content-Type\": \"application/json\"},\n",
    ")\n",
    "client"
   ]
  },
  {
   "cell_type": "markdown",
   "id": "ca01093a",
   "metadata": {},
   "source": [
    "### Working query"
   ]
  },
  {
   "cell_type": "code",
   "execution_count": 3,
   "id": "f1796ec0",
   "metadata": {
    "ExecuteTime": {
     "end_time": "2021-07-12T14:47:18.425581Z",
     "start_time": "2021-07-12T14:47:17.771089Z"
    }
   },
   "outputs": [
    {
     "data": {
      "text/plain": [
       "{'pit_id': '32ef5747-ea1e-40c7-97d7-fab1f47a16cb',\n",
       " 'took': 3,\n",
       " 'timed_out': False,\n",
       " '_shards': {'total': 1, 'successful': 1, 'skipped': 0, 'failed': 0},\n",
       " 'hits': {'total': {'value': 921, 'relation': 'eq'},\n",
       "  'max_score': 1.0,\n",
       "  'hits': [{'_index': 'company',\n",
       "    '_type': 'Company',\n",
       "    '_id': '6Sy32XcBu9D2HElYQ6bx',\n",
       "    '_score': 1.0,\n",
       "    '_ignored': ['deadpooled_date'],\n",
       "    '_source': {'webpage': '',\n",
       "     'phone_number': '',\n",
       "     'location': None,\n",
       "     'email_address': 'info@favorites.bz',\n",
       "     'city': None,\n",
       "     'description': 'Visual Web Directory',\n",
       "     'homepage_url': 'http://www.favorites.bz',\n",
       "     'founded_month': 10,\n",
       "     'revenuecurrency': '',\n",
       "     'hasstatus': '',\n",
       "     'one_competitor': 'company/allmyfaves',\n",
       "     'statecode': None,\n",
       "     'deadpooled_date': '',\n",
       "     'url': 'http://www.crunchbase.com/company/favorites',\n",
       "     'freebaseid': '',\n",
       "     'number_of_employees': 2,\n",
       "     'revenue': '',\n",
       "     'permalink': 'favorites',\n",
       "     'founded_year': 2012,\n",
       "     'id': 'company/favorites',\n",
       "     'category_code': 'search',\n",
       "     'overview': '<p>We are a responsive visual web directory providing global top sites from the top countries in the world. </p>',\n",
       "     'label': 'Favorites',\n",
       "     'blog_url': '',\n",
       "     'blog_feed_url': '',\n",
       "     'founded_date': '2012-09-30 00:00:00',\n",
       "     'revenuedate': '',\n",
       "     'label-not-analyzed': 'Favorites',\n",
       "     'countrycode': None}}]},\n",
       " 'planner': {'node': 'cgHzCgtkTOGjxN_XV-tgsw',\n",
       "  'took_in_millis': 27,\n",
       "  'timestamp': {'start_in_millis': 1626101238375,\n",
       "   'stop_in_millis': 1626101238402,\n",
       "   'took_in_millis': 27},\n",
       "  'is_pruned': False,\n",
       "  'is_truncated': False}}"
      ]
     },
     "execution_count": 3,
     "metadata": {},
     "output_type": "execute_result"
    },
    {
     "data": {
      "application/javascript": [
       "\n",
       "            setTimeout(function() {\n",
       "                var nbb_cell_id = 3;\n",
       "                var nbb_unformatted_code = \"endpoint = \\\"/siren/company/_search\\\"\\n\\n# Only companies that have been reported on by NYT according to `article` index\\nbody = {\\n    \\\"size\\\": 1,\\n    \\\"query\\\": {\\n        \\\"join\\\": {\\n            \\\"indices\\\": [\\\"article\\\"],\\n            \\\"on\\\": [\\\"id\\\", \\\"companies\\\"],\\n            \\\"request\\\": {\\n                \\\"query\\\": {\\\"query_string\\\": {\\\"query\\\": 'article.source:\\\"New York Times\\\"'}},\\n            },\\n        },\\n    },\\n}\\n\\nclient.post(endpoint, json=body).json()\";\n",
       "                var nbb_formatted_code = \"endpoint = \\\"/siren/company/_search\\\"\\n\\n# Only companies that have been reported on by NYT according to `article` index\\nbody = {\\n    \\\"size\\\": 1,\\n    \\\"query\\\": {\\n        \\\"join\\\": {\\n            \\\"indices\\\": [\\\"article\\\"],\\n            \\\"on\\\": [\\\"id\\\", \\\"companies\\\"],\\n            \\\"request\\\": {\\n                \\\"query\\\": {\\\"query_string\\\": {\\\"query\\\": 'article.source:\\\"New York Times\\\"'}},\\n            },\\n        },\\n    },\\n}\\n\\nclient.post(endpoint, json=body).json()\";\n",
       "                var nbb_cells = Jupyter.notebook.get_cells();\n",
       "                for (var i = 0; i < nbb_cells.length; ++i) {\n",
       "                    if (nbb_cells[i].input_prompt_number == nbb_cell_id) {\n",
       "                        if (nbb_cells[i].get_text() == nbb_unformatted_code) {\n",
       "                             nbb_cells[i].set_text(nbb_formatted_code);\n",
       "                        }\n",
       "                        break;\n",
       "                    }\n",
       "                }\n",
       "            }, 500);\n",
       "            "
      ],
      "text/plain": [
       "<IPython.core.display.Javascript object>"
      ]
     },
     "metadata": {},
     "output_type": "display_data"
    }
   ],
   "source": [
    "endpoint = \"/siren/company/_search\"\n",
    "\n",
    "# Only companies that have been reported on by NYT according to `article` index\n",
    "body = {\n",
    "    \"size\": 1,\n",
    "    \"query\": {\n",
    "        \"join\": {\n",
    "            \"indices\": [\"article\"],\n",
    "            \"on\": [\"id\", \"companies\"],\n",
    "            \"request\": {\n",
    "                \"query\": {\"query_string\": {\"query\": 'article.source:\"New York Times\"'}},\n",
    "            },\n",
    "        },\n",
    "    },\n",
    "}\n",
    "\n",
    "client.post(endpoint, json=body).json()"
   ]
  },
  {
   "cell_type": "markdown",
   "id": "73c481c9",
   "metadata": {},
   "source": [
    "### Bug\n",
    "\n",
    "In the following query, I expect to see `{'fields': {'article_source': [<value>]}}` in the results, but it is not there.\n",
    "\n",
    "https://docs.siren.io/siren-federate-user-guide/24/siren-federate/query-dsl.html#siren-federate-query-dsl-project"
   ]
  },
  {
   "cell_type": "code",
   "execution_count": 4,
   "id": "09dc3d5a",
   "metadata": {
    "ExecuteTime": {
     "end_time": "2021-07-12T14:47:19.308595Z",
     "start_time": "2021-07-12T14:47:18.429236Z"
    }
   },
   "outputs": [
    {
     "data": {
      "text/plain": [
       "{'pit_id': 'd9c0dd9e-dda7-40d8-a387-4e6085bb3098',\n",
       " 'took': 13,\n",
       " 'timed_out': False,\n",
       " '_shards': {'total': 1, 'successful': 1, 'skipped': 0, 'failed': 0},\n",
       " 'hits': {'total': {'value': 921, 'relation': 'eq'},\n",
       "  'max_score': 1.0,\n",
       "  'hits': [{'_index': 'company',\n",
       "    '_type': 'Company',\n",
       "    '_id': '6Sy32XcBu9D2HElYQ6bx',\n",
       "    '_score': 1.0,\n",
       "    '_ignored': ['deadpooled_date'],\n",
       "    '_source': {'webpage': '',\n",
       "     'phone_number': '',\n",
       "     'location': None,\n",
       "     'email_address': 'info@favorites.bz',\n",
       "     'city': None,\n",
       "     'description': 'Visual Web Directory',\n",
       "     'homepage_url': 'http://www.favorites.bz',\n",
       "     'founded_month': 10,\n",
       "     'revenuecurrency': '',\n",
       "     'hasstatus': '',\n",
       "     'one_competitor': 'company/allmyfaves',\n",
       "     'statecode': None,\n",
       "     'deadpooled_date': '',\n",
       "     'url': 'http://www.crunchbase.com/company/favorites',\n",
       "     'freebaseid': '',\n",
       "     'number_of_employees': 2,\n",
       "     'revenue': '',\n",
       "     'permalink': 'favorites',\n",
       "     'founded_year': 2012,\n",
       "     'id': 'company/favorites',\n",
       "     'category_code': 'search',\n",
       "     'overview': '<p>We are a responsive visual web directory providing global top sites from the top countries in the world. </p>',\n",
       "     'label': 'Favorites',\n",
       "     'blog_url': '',\n",
       "     'blog_feed_url': '',\n",
       "     'founded_date': '2012-09-30 00:00:00',\n",
       "     'revenuedate': '',\n",
       "     'label-not-analyzed': 'Favorites',\n",
       "     'countrycode': None}}]},\n",
       " 'planner': {'node': 'cgHzCgtkTOGjxN_XV-tgsw',\n",
       "  'took_in_millis': 412,\n",
       "  'timestamp': {'start_in_millis': 1626101238865,\n",
       "   'stop_in_millis': 1626101239277,\n",
       "   'took_in_millis': 412},\n",
       "  'is_pruned': False,\n",
       "  'is_truncated': False}}"
      ]
     },
     "execution_count": 4,
     "metadata": {},
     "output_type": "execute_result"
    },
    {
     "data": {
      "application/javascript": [
       "\n",
       "            setTimeout(function() {\n",
       "                var nbb_cell_id = 4;\n",
       "                var nbb_unformatted_code = \"endpoint = \\\"/siren/company/_search\\\"\\n\\n# Only companies that have been reported on by NYT\\nbody = {\\n    \\\"size\\\": 1,\\n    \\\"query\\\": {\\n        \\\"join\\\": {\\n            \\\"indices\\\": [\\\"article\\\"],\\n            \\\"on\\\": [\\\"id\\\", \\\"companies\\\"],\\n            \\\"request\\\": {\\n                \\\"project\\\": [\\n                    {\\\"field\\\": {\\\"name\\\": \\\"article.source\\\", \\\"alias\\\": \\\"article_source\\\"}}\\n                ],\\n                \\\"query\\\": {\\\"query_string\\\": {\\\"query\\\": 'article.source:\\\"New York Times\\\"'}},\\n            },\\n        },\\n    },\\n}\\n\\nclient.post(endpoint, json=body).json()\";\n",
       "                var nbb_formatted_code = \"endpoint = \\\"/siren/company/_search\\\"\\n\\n# Only companies that have been reported on by NYT\\nbody = {\\n    \\\"size\\\": 1,\\n    \\\"query\\\": {\\n        \\\"join\\\": {\\n            \\\"indices\\\": [\\\"article\\\"],\\n            \\\"on\\\": [\\\"id\\\", \\\"companies\\\"],\\n            \\\"request\\\": {\\n                \\\"project\\\": [\\n                    {\\\"field\\\": {\\\"name\\\": \\\"article.source\\\", \\\"alias\\\": \\\"article_source\\\"}}\\n                ],\\n                \\\"query\\\": {\\\"query_string\\\": {\\\"query\\\": 'article.source:\\\"New York Times\\\"'}},\\n            },\\n        },\\n    },\\n}\\n\\nclient.post(endpoint, json=body).json()\";\n",
       "                var nbb_cells = Jupyter.notebook.get_cells();\n",
       "                for (var i = 0; i < nbb_cells.length; ++i) {\n",
       "                    if (nbb_cells[i].input_prompt_number == nbb_cell_id) {\n",
       "                        if (nbb_cells[i].get_text() == nbb_unformatted_code) {\n",
       "                             nbb_cells[i].set_text(nbb_formatted_code);\n",
       "                        }\n",
       "                        break;\n",
       "                    }\n",
       "                }\n",
       "            }, 500);\n",
       "            "
      ],
      "text/plain": [
       "<IPython.core.display.Javascript object>"
      ]
     },
     "metadata": {},
     "output_type": "display_data"
    }
   ],
   "source": [
    "endpoint = \"/siren/company/_search\"\n",
    "\n",
    "# Only companies that have been reported on by NYT\n",
    "body = {\n",
    "    \"size\": 1,\n",
    "    \"query\": {\n",
    "        \"join\": {\n",
    "            \"indices\": [\"article\"],\n",
    "            \"on\": [\"id\", \"companies\"],\n",
    "            \"request\": {\n",
    "                \"project\": [\n",
    "                    {\"field\": {\"name\": \"article.source\", \"alias\": \"article_source\"}}\n",
    "                ],\n",
    "                \"query\": {\"query_string\": {\"query\": 'article.source:\"New York Times\"'}},\n",
    "            },\n",
    "        },\n",
    "    },\n",
    "}\n",
    "\n",
    "client.post(endpoint, json=body).json()"
   ]
  },
  {
   "cell_type": "code",
   "execution_count": null,
   "id": "32dd5a05",
   "metadata": {},
   "outputs": [],
   "source": []
  }
 ],
 "metadata": {
  "kernelspec": {
   "display_name": "Python 3 (ipykernel)",
   "language": "python",
   "name": "python3"
  },
  "language_info": {
   "codemirror_mode": {
    "name": "ipython",
    "version": 3
   },
   "file_extension": ".py",
   "mimetype": "text/x-python",
   "name": "python",
   "nbconvert_exporter": "python",
   "pygments_lexer": "ipython3",
   "version": "3.9.5"
  },
  "toc": {
   "base_numbering": 1,
   "nav_menu": {},
   "number_sections": true,
   "sideBar": true,
   "skip_h1_title": false,
   "title_cell": "Table of Contents",
   "title_sidebar": "Contents",
   "toc_cell": false,
   "toc_position": {},
   "toc_section_display": true,
   "toc_window_display": true
  }
 },
 "nbformat": 4,
 "nbformat_minor": 5
}
