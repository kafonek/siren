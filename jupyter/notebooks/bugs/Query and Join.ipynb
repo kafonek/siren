{
 "cells": [
  {
   "cell_type": "markdown",
   "id": "ec1185c7",
   "metadata": {},
   "source": [
    "### Overview\n",
    "\n",
    "\n",
    "\n"
   ]
  },
  {
   "cell_type": "markdown",
   "id": "4f5cfd96",
   "metadata": {},
   "source": [
    "#### Notebook setup"
   ]
  },
  {
   "cell_type": "code",
   "execution_count": 1,
   "id": "263f20b9",
   "metadata": {
    "ExecuteTime": {
     "end_time": "2021-07-12T14:47:35.460004Z",
     "start_time": "2021-07-12T14:47:35.336738Z"
    }
   },
   "outputs": [
    {
     "data": {
      "application/javascript": [
       "\n",
       "            setTimeout(function() {\n",
       "                var nbb_cell_id = 1;\n",
       "                var nbb_unformatted_code = \"%load_ext nb_black\";\n",
       "                var nbb_formatted_code = \"%load_ext nb_black\";\n",
       "                var nbb_cells = Jupyter.notebook.get_cells();\n",
       "                for (var i = 0; i < nbb_cells.length; ++i) {\n",
       "                    if (nbb_cells[i].input_prompt_number == nbb_cell_id) {\n",
       "                        if (nbb_cells[i].get_text() == nbb_unformatted_code) {\n",
       "                             nbb_cells[i].set_text(nbb_formatted_code);\n",
       "                        }\n",
       "                        break;\n",
       "                    }\n",
       "                }\n",
       "            }, 500);\n",
       "            "
      ],
      "text/plain": [
       "<IPython.core.display.Javascript object>"
      ]
     },
     "metadata": {},
     "output_type": "display_data"
    }
   ],
   "source": [
    "%load_ext nb_black"
   ]
  },
  {
   "cell_type": "code",
   "execution_count": 2,
   "id": "9d71cefa",
   "metadata": {
    "ExecuteTime": {
     "end_time": "2021-07-12T14:47:35.651553Z",
     "start_time": "2021-07-12T14:47:35.463569Z"
    }
   },
   "outputs": [
    {
     "data": {
      "text/plain": [
       "<httpx.Client at 0x7ff21c250190>"
      ]
     },
     "execution_count": 2,
     "metadata": {},
     "output_type": "execute_result"
    },
    {
     "data": {
      "application/javascript": [
       "\n",
       "            setTimeout(function() {\n",
       "                var nbb_cell_id = 2;\n",
       "                var nbb_unformatted_code = \"import httpx\\n\\nclient = httpx.Client(\\n    base_url=\\\"https://siren:9220\\\",\\n    verify=False,\\n    auth=(\\\"sirenadmin\\\", \\\"password\\\"),\\n    headers={\\\"Content-Type\\\": \\\"application/json\\\"},\\n)\\nclient\";\n",
       "                var nbb_formatted_code = \"import httpx\\n\\nclient = httpx.Client(\\n    base_url=\\\"https://siren:9220\\\",\\n    verify=False,\\n    auth=(\\\"sirenadmin\\\", \\\"password\\\"),\\n    headers={\\\"Content-Type\\\": \\\"application/json\\\"},\\n)\\nclient\";\n",
       "                var nbb_cells = Jupyter.notebook.get_cells();\n",
       "                for (var i = 0; i < nbb_cells.length; ++i) {\n",
       "                    if (nbb_cells[i].input_prompt_number == nbb_cell_id) {\n",
       "                        if (nbb_cells[i].get_text() == nbb_unformatted_code) {\n",
       "                             nbb_cells[i].set_text(nbb_formatted_code);\n",
       "                        }\n",
       "                        break;\n",
       "                    }\n",
       "                }\n",
       "            }, 500);\n",
       "            "
      ],
      "text/plain": [
       "<IPython.core.display.Javascript object>"
      ]
     },
     "metadata": {},
     "output_type": "display_data"
    }
   ],
   "source": [
    "import httpx\n",
    "\n",
    "client = httpx.Client(\n",
    "    base_url=\"https://siren:9220\",\n",
    "    verify=False,\n",
    "    auth=(\"sirenadmin\", \"password\"),\n",
    "    headers={\"Content-Type\": \"application/json\"},\n",
    ")\n",
    "client"
   ]
  },
  {
   "cell_type": "markdown",
   "id": "ca01093a",
   "metadata": {},
   "source": [
    "### Working queries\n",
    "\n",
    "Querying for `city:Rockville` works, and doing a joined query for companies that have been reported on by NYT works."
   ]
  },
  {
   "cell_type": "code",
   "execution_count": 3,
   "id": "3910b3f1",
   "metadata": {
    "ExecuteTime": {
     "end_time": "2021-07-12T14:47:35.832256Z",
     "start_time": "2021-07-12T14:47:35.654030Z"
    }
   },
   "outputs": [
    {
     "data": {
      "text/plain": [
       "{'pit_id': 'd6299123-99d0-43ab-b46b-432517a659a9',\n",
       " 'took': 3,\n",
       " 'timed_out': False,\n",
       " '_shards': {'total': 1, 'successful': 1, 'skipped': 0, 'failed': 0},\n",
       " 'hits': {'total': {'value': 73, 'relation': 'eq'},\n",
       "  'max_score': 6.9030094,\n",
       "  'hits': [{'_index': 'company',\n",
       "    '_type': 'Company',\n",
       "    '_id': 'Oiy32XcBu9D2HElYT786',\n",
       "    '_score': 6.9030094,\n",
       "    '_ignored': ['deadpooled_date'],\n",
       "    '_source': {'webpage': '',\n",
       "     'phone_number': '240-453-6331',\n",
       "     'location': '44.163276, -69.0915779',\n",
       "     'email_address': 'custsupport@appliedcellsci.com',\n",
       "     'city': 'Rockville',\n",
       "     'description': 'drug discovery research',\n",
       "     'homepage_url': 'http://www.appliedcellsci.com',\n",
       "     'founded_month': 0,\n",
       "     'revenuecurrency': '',\n",
       "     'hasstatus': 'acquired',\n",
       "     'one_competitor': None,\n",
       "     'statecode': 'MD',\n",
       "     'deadpooled_date': '',\n",
       "     'url': 'http://www.crunchbase.com/company/applied-cell-sciences',\n",
       "     'freebaseid': '',\n",
       "     'number_of_employees': None,\n",
       "     'revenue': '',\n",
       "     'permalink': 'applied-cell-sciences',\n",
       "     'founded_year': 2004,\n",
       "     'id': 'company/applied-cell-sciences',\n",
       "     'category_code': 'biotech',\n",
       "     'overview': '<p>Applied Cell Sciences, Inc., a contract research organization, provides G-protein coupled receptors products and services in the United States and internationally. Its products include stable cell lines; membranes that are provided as frozen suspensions for binding assays; rat brain membranes, which are provided as frozen membrane suspensions; control membranes that used as controls for GPCR membranes; and EZCells, which are growth arrested cyropreserved cells for functional receptor assays. The company also offers services for customized reagent production, such as cell line construction, cell culture/membrane preparations, cell culture/large-scale cryopreservation, and specialized screening. It offers its products and services through distributors. </p>\\n<p>The company was founded in 2004 and is based in Rockville, Maryland. As of February 26, 2009, Applied Cell Sciences, Inc. operates as a subsidiary of ChanTest, Inc.</p>',\n",
       "     'label': 'Applied Cell Sciences',\n",
       "     'blog_url': '',\n",
       "     'blog_feed_url': '',\n",
       "     'founded_date': '2003-11-30 00:00:00',\n",
       "     'revenuedate': '',\n",
       "     'label-not-analyzed': 'Applied Cell Sciences',\n",
       "     'countrycode': 'USA'}}]},\n",
       " 'planner': {'node': 'cgHzCgtkTOGjxN_XV-tgsw',\n",
       "  'took_in_millis': 12,\n",
       "  'timestamp': {'start_in_millis': 1626101255801,\n",
       "   'stop_in_millis': 1626101255813,\n",
       "   'took_in_millis': 12},\n",
       "  'is_pruned': False,\n",
       "  'is_truncated': False}}"
      ]
     },
     "execution_count": 3,
     "metadata": {},
     "output_type": "execute_result"
    },
    {
     "data": {
      "application/javascript": [
       "\n",
       "            setTimeout(function() {\n",
       "                var nbb_cell_id = 3;\n",
       "                var nbb_unformatted_code = \"endpoint = \\\"/siren/company/_search\\\"\\n\\nbody = {\\n    \\\"size\\\": 1,\\n    \\\"query\\\": {\\n        \\\"query_string\\\": {\\\"query\\\": \\\"city:Rockville\\\"},\\n    },\\n}\\n\\nclient.post(endpoint, json=body).json()\";\n",
       "                var nbb_formatted_code = \"endpoint = \\\"/siren/company/_search\\\"\\n\\nbody = {\\n    \\\"size\\\": 1,\\n    \\\"query\\\": {\\n        \\\"query_string\\\": {\\\"query\\\": \\\"city:Rockville\\\"},\\n    },\\n}\\n\\nclient.post(endpoint, json=body).json()\";\n",
       "                var nbb_cells = Jupyter.notebook.get_cells();\n",
       "                for (var i = 0; i < nbb_cells.length; ++i) {\n",
       "                    if (nbb_cells[i].input_prompt_number == nbb_cell_id) {\n",
       "                        if (nbb_cells[i].get_text() == nbb_unformatted_code) {\n",
       "                             nbb_cells[i].set_text(nbb_formatted_code);\n",
       "                        }\n",
       "                        break;\n",
       "                    }\n",
       "                }\n",
       "            }, 500);\n",
       "            "
      ],
      "text/plain": [
       "<IPython.core.display.Javascript object>"
      ]
     },
     "metadata": {},
     "output_type": "display_data"
    }
   ],
   "source": [
    "endpoint = \"/siren/company/_search\"\n",
    "\n",
    "body = {\n",
    "    \"size\": 1,\n",
    "    \"query\": {\n",
    "        \"query_string\": {\"query\": \"city:Rockville\"},\n",
    "    },\n",
    "}\n",
    "\n",
    "client.post(endpoint, json=body).json()"
   ]
  },
  {
   "cell_type": "code",
   "execution_count": 4,
   "id": "f1796ec0",
   "metadata": {
    "ExecuteTime": {
     "end_time": "2021-07-12T14:47:36.215755Z",
     "start_time": "2021-07-12T14:47:35.836105Z"
    }
   },
   "outputs": [
    {
     "data": {
      "text/plain": [
       "{'pit_id': '2420c59b-82b7-441a-b787-d4eb910bc4ff',\n",
       " 'took': 3,\n",
       " 'timed_out': False,\n",
       " '_shards': {'total': 1, 'successful': 1, 'skipped': 0, 'failed': 0},\n",
       " 'hits': {'total': {'value': 921, 'relation': 'eq'},\n",
       "  'max_score': 1.0,\n",
       "  'hits': [{'_index': 'company',\n",
       "    '_type': 'Company',\n",
       "    '_id': '6Sy32XcBu9D2HElYQ6bx',\n",
       "    '_score': 1.0,\n",
       "    '_ignored': ['deadpooled_date'],\n",
       "    '_source': {'webpage': '',\n",
       "     'phone_number': '',\n",
       "     'location': None,\n",
       "     'email_address': 'info@favorites.bz',\n",
       "     'city': None,\n",
       "     'description': 'Visual Web Directory',\n",
       "     'homepage_url': 'http://www.favorites.bz',\n",
       "     'founded_month': 10,\n",
       "     'revenuecurrency': '',\n",
       "     'hasstatus': '',\n",
       "     'one_competitor': 'company/allmyfaves',\n",
       "     'statecode': None,\n",
       "     'deadpooled_date': '',\n",
       "     'url': 'http://www.crunchbase.com/company/favorites',\n",
       "     'freebaseid': '',\n",
       "     'number_of_employees': 2,\n",
       "     'revenue': '',\n",
       "     'permalink': 'favorites',\n",
       "     'founded_year': 2012,\n",
       "     'id': 'company/favorites',\n",
       "     'category_code': 'search',\n",
       "     'overview': '<p>We are a responsive visual web directory providing global top sites from the top countries in the world. </p>',\n",
       "     'label': 'Favorites',\n",
       "     'blog_url': '',\n",
       "     'blog_feed_url': '',\n",
       "     'founded_date': '2012-09-30 00:00:00',\n",
       "     'revenuedate': '',\n",
       "     'label-not-analyzed': 'Favorites',\n",
       "     'countrycode': None}}]},\n",
       " 'planner': {'node': 'cgHzCgtkTOGjxN_XV-tgsw',\n",
       "  'took_in_millis': 26,\n",
       "  'timestamp': {'start_in_millis': 1626101256165,\n",
       "   'stop_in_millis': 1626101256191,\n",
       "   'took_in_millis': 26},\n",
       "  'is_pruned': False,\n",
       "  'is_truncated': False}}"
      ]
     },
     "execution_count": 4,
     "metadata": {},
     "output_type": "execute_result"
    },
    {
     "data": {
      "application/javascript": [
       "\n",
       "            setTimeout(function() {\n",
       "                var nbb_cell_id = 4;\n",
       "                var nbb_unformatted_code = \"endpoint = \\\"/siren/company/_search\\\"\\n\\n# Only companies that have been reported on by NYT according to `article` index\\nbody = {\\n    \\\"size\\\": 1,\\n    \\\"query\\\": {\\n        \\\"join\\\": {\\n            \\\"indices\\\": [\\\"article\\\"],\\n            \\\"on\\\": [\\\"id\\\", \\\"companies\\\"],\\n            \\\"request\\\": {\\n                \\\"query\\\": {\\\"query_string\\\": {\\\"query\\\": 'article.source:\\\"New York Times\\\"'}},\\n            },\\n        },\\n    },\\n}\\n\\nclient.post(endpoint, json=body).json()\";\n",
       "                var nbb_formatted_code = \"endpoint = \\\"/siren/company/_search\\\"\\n\\n# Only companies that have been reported on by NYT according to `article` index\\nbody = {\\n    \\\"size\\\": 1,\\n    \\\"query\\\": {\\n        \\\"join\\\": {\\n            \\\"indices\\\": [\\\"article\\\"],\\n            \\\"on\\\": [\\\"id\\\", \\\"companies\\\"],\\n            \\\"request\\\": {\\n                \\\"query\\\": {\\\"query_string\\\": {\\\"query\\\": 'article.source:\\\"New York Times\\\"'}},\\n            },\\n        },\\n    },\\n}\\n\\nclient.post(endpoint, json=body).json()\";\n",
       "                var nbb_cells = Jupyter.notebook.get_cells();\n",
       "                for (var i = 0; i < nbb_cells.length; ++i) {\n",
       "                    if (nbb_cells[i].input_prompt_number == nbb_cell_id) {\n",
       "                        if (nbb_cells[i].get_text() == nbb_unformatted_code) {\n",
       "                             nbb_cells[i].set_text(nbb_formatted_code);\n",
       "                        }\n",
       "                        break;\n",
       "                    }\n",
       "                }\n",
       "            }, 500);\n",
       "            "
      ],
      "text/plain": [
       "<IPython.core.display.Javascript object>"
      ]
     },
     "metadata": {},
     "output_type": "display_data"
    }
   ],
   "source": [
    "endpoint = \"/siren/company/_search\"\n",
    "\n",
    "# Only companies that have been reported on by NYT according to `article` index\n",
    "body = {\n",
    "    \"size\": 1,\n",
    "    \"query\": {\n",
    "        \"join\": {\n",
    "            \"indices\": [\"article\"],\n",
    "            \"on\": [\"id\", \"companies\"],\n",
    "            \"request\": {\n",
    "                \"query\": {\"query_string\": {\"query\": 'article.source:\"New York Times\"'}},\n",
    "            },\n",
    "        },\n",
    "    },\n",
    "}\n",
    "\n",
    "client.post(endpoint, json=body).json()"
   ]
  },
  {
   "cell_type": "markdown",
   "id": "73c481c9",
   "metadata": {},
   "source": [
    "### Bug\n",
    "\n",
    "Trying to query for `city:Rockville` AND companies reported on by NYT throws a DSL parsing error."
   ]
  },
  {
   "cell_type": "code",
   "execution_count": 5,
   "id": "09dc3d5a",
   "metadata": {
    "ExecuteTime": {
     "end_time": "2021-07-12T14:47:36.395552Z",
     "start_time": "2021-07-12T14:47:36.218213Z"
    }
   },
   "outputs": [
    {
     "data": {
      "text/plain": [
       "{'error': {'root_cause': [{'type': 'parsing_exception',\n",
       "    'reason': '[query_string] malformed query, expected [END_OBJECT] but found [FIELD_NAME]',\n",
       "    'line': 1,\n",
       "    'col': 68}],\n",
       "  'type': 'parsing_exception',\n",
       "  'reason': '[query_string] malformed query, expected [END_OBJECT] but found [FIELD_NAME]',\n",
       "  'line': 1,\n",
       "  'col': 68},\n",
       " 'status': 400}"
      ]
     },
     "execution_count": 5,
     "metadata": {},
     "output_type": "execute_result"
    },
    {
     "data": {
      "application/javascript": [
       "\n",
       "            setTimeout(function() {\n",
       "                var nbb_cell_id = 5;\n",
       "                var nbb_unformatted_code = \"endpoint = \\\"/siren/company/_search\\\"\\n\\n# Only companies that have been reported on by NYT according to `article` index\\nbody = {\\n    \\\"size\\\": 1,\\n    \\\"query\\\": {\\n        \\\"query_string\\\": {\\\"query\\\": \\\"city:Rockville\\\"},\\n        \\\"join\\\": {\\n            \\\"indices\\\": [\\\"article\\\"],\\n            \\\"on\\\": [\\\"id\\\", \\\"companies\\\"],\\n            \\\"request\\\": {\\n                \\\"query\\\": {\\\"query_string\\\": {\\\"query\\\": 'article.source:\\\"New York Times\\\"'}},\\n            },\\n        },\\n    },\\n}\\n\\nclient.post(endpoint, json=body).json()\";\n",
       "                var nbb_formatted_code = \"endpoint = \\\"/siren/company/_search\\\"\\n\\n# Only companies that have been reported on by NYT according to `article` index\\nbody = {\\n    \\\"size\\\": 1,\\n    \\\"query\\\": {\\n        \\\"query_string\\\": {\\\"query\\\": \\\"city:Rockville\\\"},\\n        \\\"join\\\": {\\n            \\\"indices\\\": [\\\"article\\\"],\\n            \\\"on\\\": [\\\"id\\\", \\\"companies\\\"],\\n            \\\"request\\\": {\\n                \\\"query\\\": {\\\"query_string\\\": {\\\"query\\\": 'article.source:\\\"New York Times\\\"'}},\\n            },\\n        },\\n    },\\n}\\n\\nclient.post(endpoint, json=body).json()\";\n",
       "                var nbb_cells = Jupyter.notebook.get_cells();\n",
       "                for (var i = 0; i < nbb_cells.length; ++i) {\n",
       "                    if (nbb_cells[i].input_prompt_number == nbb_cell_id) {\n",
       "                        if (nbb_cells[i].get_text() == nbb_unformatted_code) {\n",
       "                             nbb_cells[i].set_text(nbb_formatted_code);\n",
       "                        }\n",
       "                        break;\n",
       "                    }\n",
       "                }\n",
       "            }, 500);\n",
       "            "
      ],
      "text/plain": [
       "<IPython.core.display.Javascript object>"
      ]
     },
     "metadata": {},
     "output_type": "display_data"
    }
   ],
   "source": [
    "endpoint = \"/siren/company/_search\"\n",
    "\n",
    "# Only companies that have been reported on by NYT according to `article` index\n",
    "body = {\n",
    "    \"size\": 1,\n",
    "    \"query\": {\n",
    "        \"query_string\": {\"query\": \"city:Rockville\"},\n",
    "        \"join\": {\n",
    "            \"indices\": [\"article\"],\n",
    "            \"on\": [\"id\", \"companies\"],\n",
    "            \"request\": {\n",
    "                \"query\": {\"query_string\": {\"query\": 'article.source:\"New York Times\"'}},\n",
    "            },\n",
    "        },\n",
    "    },\n",
    "}\n",
    "\n",
    "client.post(endpoint, json=body).json()"
   ]
  },
  {
   "cell_type": "code",
   "execution_count": null,
   "id": "32dd5a05",
   "metadata": {},
   "outputs": [],
   "source": []
  }
 ],
 "metadata": {
  "kernelspec": {
   "display_name": "Python 3 (ipykernel)",
   "language": "python",
   "name": "python3"
  },
  "language_info": {
   "codemirror_mode": {
    "name": "ipython",
    "version": 3
   },
   "file_extension": ".py",
   "mimetype": "text/x-python",
   "name": "python",
   "nbconvert_exporter": "python",
   "pygments_lexer": "ipython3",
   "version": "3.9.5"
  },
  "toc": {
   "base_numbering": 1,
   "nav_menu": {},
   "number_sections": true,
   "sideBar": true,
   "skip_h1_title": false,
   "title_cell": "Table of Contents",
   "title_sidebar": "Contents",
   "toc_cell": false,
   "toc_position": {},
   "toc_section_display": true,
   "toc_window_display": true
  }
 },
 "nbformat": 4,
 "nbformat_minor": 5
}
