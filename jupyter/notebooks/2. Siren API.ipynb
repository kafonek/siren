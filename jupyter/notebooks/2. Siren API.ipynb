{
 "cells": [
  {
   "cell_type": "markdown",
   "id": "d241ed63",
   "metadata": {},
   "source": [
    "### Overview\n",
    "\n",
    "This Notebook reviews the Elasticsearch `/<index>/_search` API and introduces the Siren-specific `/siren/<index>/_search`.  All examples here will use \"hand-crafted\" requests to the endpoints rather than convenience libraries like `elasticsearch.py` and `elasticsearch-dsl.py` because those cannot work with the Siren endpoints.\n",
    "\n",
    "Elasticsearch DSL docs - \n",
    "Siren DSL docs - https://docs.siren.io/siren-federate-user-guide/24/siren-federate/search-apis.html#_search_api"
   ]
  },
  {
   "cell_type": "markdown",
   "id": "2bff6a63",
   "metadata": {},
   "source": [
    "#### Notebook setup"
   ]
  },
  {
   "cell_type": "code",
   "execution_count": 1,
   "id": "586f692d",
   "metadata": {
    "ExecuteTime": {
     "end_time": "2021-07-12T16:38:27.190028Z",
     "start_time": "2021-07-12T16:38:27.075192Z"
    }
   },
   "outputs": [
    {
     "data": {
      "application/javascript": [
       "\n",
       "            setTimeout(function() {\n",
       "                var nbb_cell_id = 1;\n",
       "                var nbb_unformatted_code = \"%load_ext nb_black\";\n",
       "                var nbb_formatted_code = \"%load_ext nb_black\";\n",
       "                var nbb_cells = Jupyter.notebook.get_cells();\n",
       "                for (var i = 0; i < nbb_cells.length; ++i) {\n",
       "                    if (nbb_cells[i].input_prompt_number == nbb_cell_id) {\n",
       "                        if (nbb_cells[i].get_text() == nbb_unformatted_code) {\n",
       "                             nbb_cells[i].set_text(nbb_formatted_code);\n",
       "                        }\n",
       "                        break;\n",
       "                    }\n",
       "                }\n",
       "            }, 500);\n",
       "            "
      ],
      "text/plain": [
       "<IPython.core.display.Javascript object>"
      ]
     },
     "metadata": {},
     "output_type": "display_data"
    }
   ],
   "source": [
    "%load_ext nb_black"
   ]
  },
  {
   "cell_type": "code",
   "execution_count": 2,
   "id": "da6298fc",
   "metadata": {
    "ExecuteTime": {
     "end_time": "2021-07-12T16:38:27.742989Z",
     "start_time": "2021-07-12T16:38:27.193197Z"
    }
   },
   "outputs": [
    {
     "data": {
      "text/plain": [
       "<httpx.Client at 0x7fea78376190>"
      ]
     },
     "execution_count": 2,
     "metadata": {},
     "output_type": "execute_result"
    },
    {
     "data": {
      "application/javascript": [
       "\n",
       "            setTimeout(function() {\n",
       "                var nbb_cell_id = 2;\n",
       "                var nbb_unformatted_code = \"import httpx\\n\\nclient = httpx.Client(\\n    base_url=\\\"https://siren:9220\\\",\\n    verify=False,\\n    auth=(\\\"sirenadmin\\\", \\\"password\\\"),\\n    headers={\\\"Content-Type\\\": \\\"application/json\\\"},\\n)\\nclient\";\n",
       "                var nbb_formatted_code = \"import httpx\\n\\nclient = httpx.Client(\\n    base_url=\\\"https://siren:9220\\\",\\n    verify=False,\\n    auth=(\\\"sirenadmin\\\", \\\"password\\\"),\\n    headers={\\\"Content-Type\\\": \\\"application/json\\\"},\\n)\\nclient\";\n",
       "                var nbb_cells = Jupyter.notebook.get_cells();\n",
       "                for (var i = 0; i < nbb_cells.length; ++i) {\n",
       "                    if (nbb_cells[i].input_prompt_number == nbb_cell_id) {\n",
       "                        if (nbb_cells[i].get_text() == nbb_unformatted_code) {\n",
       "                             nbb_cells[i].set_text(nbb_formatted_code);\n",
       "                        }\n",
       "                        break;\n",
       "                    }\n",
       "                }\n",
       "            }, 500);\n",
       "            "
      ],
      "text/plain": [
       "<IPython.core.display.Javascript object>"
      ]
     },
     "metadata": {},
     "output_type": "display_data"
    }
   ],
   "source": [
    "import httpx\n",
    "\n",
    "client = httpx.Client(\n",
    "    base_url=\"https://siren:9220\",\n",
    "    verify=False,\n",
    "    auth=(\"sirenadmin\", \"password\"),\n",
    "    headers={\"Content-Type\": \"application/json\"},\n",
    ")\n",
    "client"
   ]
  },
  {
   "cell_type": "code",
   "execution_count": 3,
   "id": "63d2a995",
   "metadata": {
    "ExecuteTime": {
     "end_time": "2021-07-12T16:38:28.004441Z",
     "start_time": "2021-07-12T16:38:27.745901Z"
    }
   },
   "outputs": [
    {
     "data": {
      "text/plain": [
       "<Response [200 OK]>"
      ]
     },
     "execution_count": 3,
     "metadata": {},
     "output_type": "execute_result"
    },
    {
     "data": {
      "application/javascript": [
       "\n",
       "            setTimeout(function() {\n",
       "                var nbb_cell_id = 3;\n",
       "                var nbb_unformatted_code = \"resp = client.get(\\\"/\\\")\\nresp\";\n",
       "                var nbb_formatted_code = \"resp = client.get(\\\"/\\\")\\nresp\";\n",
       "                var nbb_cells = Jupyter.notebook.get_cells();\n",
       "                for (var i = 0; i < nbb_cells.length; ++i) {\n",
       "                    if (nbb_cells[i].input_prompt_number == nbb_cell_id) {\n",
       "                        if (nbb_cells[i].get_text() == nbb_unformatted_code) {\n",
       "                             nbb_cells[i].set_text(nbb_formatted_code);\n",
       "                        }\n",
       "                        break;\n",
       "                    }\n",
       "                }\n",
       "            }, 500);\n",
       "            "
      ],
      "text/plain": [
       "<IPython.core.display.Javascript object>"
      ]
     },
     "metadata": {},
     "output_type": "display_data"
    }
   ],
   "source": [
    "resp = client.get(\"/\")\n",
    "resp"
   ]
  },
  {
   "cell_type": "code",
   "execution_count": 4,
   "id": "786102ec",
   "metadata": {
    "ExecuteTime": {
     "end_time": "2021-07-12T16:38:28.556514Z",
     "start_time": "2021-07-12T16:38:28.007790Z"
    }
   },
   "outputs": [
    {
     "data": {
      "text/plain": [
       "{'name': 'siren-node',\n",
       " 'cluster_name': 'siren-distribution',\n",
       " 'cluster_uuid': 'io6gD5WORPaz1_IqddTtog',\n",
       " 'version': {'number': '7.10.2',\n",
       "  'build_flavor': 'oss',\n",
       "  'build_type': 'tar',\n",
       "  'build_hash': '747e1cc71def077253878a59143c1f785afa92b9',\n",
       "  'build_date': '2021-01-13T00:42:12.435326Z',\n",
       "  'build_snapshot': False,\n",
       "  'lucene_version': '8.7.0',\n",
       "  'minimum_wire_compatibility_version': '6.8.0',\n",
       "  'minimum_index_compatibility_version': '6.0.0-beta1'},\n",
       " 'tagline': 'You Know, for Search'}"
      ]
     },
     "execution_count": 4,
     "metadata": {},
     "output_type": "execute_result"
    },
    {
     "data": {
      "application/javascript": [
       "\n",
       "            setTimeout(function() {\n",
       "                var nbb_cell_id = 4;\n",
       "                var nbb_unformatted_code = \"resp.json()\";\n",
       "                var nbb_formatted_code = \"resp.json()\";\n",
       "                var nbb_cells = Jupyter.notebook.get_cells();\n",
       "                for (var i = 0; i < nbb_cells.length; ++i) {\n",
       "                    if (nbb_cells[i].input_prompt_number == nbb_cell_id) {\n",
       "                        if (nbb_cells[i].get_text() == nbb_unformatted_code) {\n",
       "                             nbb_cells[i].set_text(nbb_formatted_code);\n",
       "                        }\n",
       "                        break;\n",
       "                    }\n",
       "                }\n",
       "            }, 500);\n",
       "            "
      ],
      "text/plain": [
       "<IPython.core.display.Javascript object>"
      ]
     },
     "metadata": {},
     "output_type": "display_data"
    }
   ],
   "source": [
    "resp.json()"
   ]
  },
  {
   "cell_type": "markdown",
   "id": "c6cc2da1",
   "metadata": {},
   "source": [
    "### List indices"
   ]
  },
  {
   "cell_type": "code",
   "execution_count": 5,
   "id": "6d4cc5ca",
   "metadata": {
    "ExecuteTime": {
     "end_time": "2021-07-12T16:38:28.947674Z",
     "start_time": "2021-07-12T16:38:28.560516Z"
    }
   },
   "outputs": [
    {
     "data": {
      "text/plain": [
       "<Response [200 OK]>"
      ]
     },
     "execution_count": 5,
     "metadata": {},
     "output_type": "execute_result"
    },
    {
     "data": {
      "application/javascript": [
       "\n",
       "            setTimeout(function() {\n",
       "                var nbb_cell_id = 5;\n",
       "                var nbb_unformatted_code = \"endpoint = \\\"/_cat/indices\\\"\\nparams = {\\\"format\\\": \\\"json\\\"}\\nresp = client.get(endpoint, params=params)\\nresp\";\n",
       "                var nbb_formatted_code = \"endpoint = \\\"/_cat/indices\\\"\\nparams = {\\\"format\\\": \\\"json\\\"}\\nresp = client.get(endpoint, params=params)\\nresp\";\n",
       "                var nbb_cells = Jupyter.notebook.get_cells();\n",
       "                for (var i = 0; i < nbb_cells.length; ++i) {\n",
       "                    if (nbb_cells[i].input_prompt_number == nbb_cell_id) {\n",
       "                        if (nbb_cells[i].get_text() == nbb_unformatted_code) {\n",
       "                             nbb_cells[i].set_text(nbb_formatted_code);\n",
       "                        }\n",
       "                        break;\n",
       "                    }\n",
       "                }\n",
       "            }, 500);\n",
       "            "
      ],
      "text/plain": [
       "<IPython.core.display.Javascript object>"
      ]
     },
     "metadata": {},
     "output_type": "display_data"
    }
   ],
   "source": [
    "endpoint = \"/_cat/indices\"\n",
    "params = {\"format\": \"json\"}\n",
    "resp = client.get(endpoint, params=params)\n",
    "resp"
   ]
  },
  {
   "cell_type": "code",
   "execution_count": 6,
   "id": "1b8a7f2e",
   "metadata": {
    "ExecuteTime": {
     "end_time": "2021-07-12T16:38:29.863884Z",
     "start_time": "2021-07-12T16:38:28.950612Z"
    }
   },
   "outputs": [
    {
     "data": {
      "text/plain": [
       "[{'health': 'yellow',\n",
       "  'status': 'open',\n",
       "  'index': 'investor_revised',\n",
       "  'uuid': '_is0d7tiTPy8CvEZUTxcnQ',\n",
       "  'pri': '1',\n",
       "  'rep': '1',\n",
       "  'docs.count': '0',\n",
       "  'docs.deleted': '0',\n",
       "  'store.size': '230b',\n",
       "  'pri.store.size': '230b'},\n",
       " {'health': 'yellow',\n",
       "  'status': 'open',\n",
       "  'index': '.map__shape__world-countries_us_us-states_vermont_rivers_streams-river-geojson',\n",
       "  'uuid': '1QGCLOLESVKeaghovLSWTQ',\n",
       "  'pri': '1',\n",
       "  'rep': '1',\n",
       "  'docs.count': '223',\n",
       "  'docs.deleted': '0',\n",
       "  'store.size': '1.7mb',\n",
       "  'pri.store.size': '1.7mb'},\n",
       " {'health': 'yellow',\n",
       "  'status': 'open',\n",
       "  'index': '.map__shape__world-countries_us_us-states_us-states-geojson',\n",
       "  'uuid': 'ZRYs4cp6TU69V1zP8UWTsA',\n",
       "  'pri': '1',\n",
       "  'rep': '1',\n",
       "  'docs.count': '57',\n",
       "  'docs.deleted': '0',\n",
       "  'store.size': '296.4kb',\n",
       "  'pri.store.size': '296.4kb'},\n",
       " {'health': 'yellow',\n",
       "  'status': 'open',\n",
       "  'index': 'investment',\n",
       "  'uuid': 'Yuv5kDRnRl-85DrozzSjqw',\n",
       "  'pri': '1',\n",
       "  'rep': '1',\n",
       "  'docs.count': '41623',\n",
       "  'docs.deleted': '0',\n",
       "  'store.size': '24mb',\n",
       "  'pri.store.size': '24mb'},\n",
       " {'health': 'yellow',\n",
       "  'status': 'open',\n",
       "  'index': '.map__shape__world-countries_worldcountries-geojson',\n",
       "  'uuid': '1ua2wgqAQU6AeBskkuytMQ',\n",
       "  'pri': '1',\n",
       "  'rep': '1',\n",
       "  'docs.count': '177',\n",
       "  'docs.deleted': '0',\n",
       "  'store.size': '1.4mb',\n",
       "  'pri.store.size': '1.4mb'},\n",
       " {'health': 'yellow',\n",
       "  'status': 'open',\n",
       "  'index': 'article_revised',\n",
       "  'uuid': 'qgdt2W4VRN2hcKCQvmsqvQ',\n",
       "  'pri': '1',\n",
       "  'rep': '1',\n",
       "  'docs.count': '0',\n",
       "  'docs.deleted': '0',\n",
       "  'store.size': '230b',\n",
       "  'pri.store.size': '230b'},\n",
       " {'health': 'yellow',\n",
       "  'status': 'open',\n",
       "  'index': 'article',\n",
       "  'uuid': 'vqMXuOWbT3iO9cZ6XuhFIQ',\n",
       "  'pri': '1',\n",
       "  'rep': '1',\n",
       "  'docs.count': '646903',\n",
       "  'docs.deleted': '0',\n",
       "  'store.size': '1.1gb',\n",
       "  'pri.store.size': '1.1gb'},\n",
       " {'health': 'yellow',\n",
       "  'status': 'open',\n",
       "  'index': 'investment_revised',\n",
       "  'uuid': 'nwrfc8oPTOm4C2iVHiNbyg',\n",
       "  'pri': '1',\n",
       "  'rep': '1',\n",
       "  'docs.count': '0',\n",
       "  'docs.deleted': '0',\n",
       "  'store.size': '230b',\n",
       "  'pri.store.size': '230b'},\n",
       " {'health': 'green',\n",
       "  'status': 'open',\n",
       "  'index': 'searchguard',\n",
       "  'uuid': 'L9G42jnPQ7i3PLFvPJXQNw',\n",
       "  'pri': '1',\n",
       "  'rep': '0',\n",
       "  'docs.count': '7',\n",
       "  'docs.deleted': '0',\n",
       "  'store.size': '57.1kb',\n",
       "  'pri.store.size': '57.1kb'},\n",
       " {'health': 'yellow',\n",
       "  'status': 'open',\n",
       "  'index': 'investor',\n",
       "  'uuid': 'OSkU8r_XTPyrR22VJan6Qw',\n",
       "  'pri': '1',\n",
       "  'rep': '1',\n",
       "  'docs.count': '14959',\n",
       "  'docs.deleted': '0',\n",
       "  'store.size': '16.5mb',\n",
       "  'pri.store.size': '16.5mb'},\n",
       " {'health': 'yellow',\n",
       "  'status': 'open',\n",
       "  'index': '.map__shape__world-countries_ireland_counties_ireland-counties-geojson',\n",
       "  'uuid': '-p6GfpxdSnyw9pDLsWZwqg',\n",
       "  'pri': '1',\n",
       "  'rep': '1',\n",
       "  'docs.count': '35',\n",
       "  'docs.deleted': '0',\n",
       "  'store.size': '374.2kb',\n",
       "  'pri.store.size': '374.2kb'},\n",
       " {'health': 'yellow',\n",
       "  'status': 'open',\n",
       "  'index': '.siren',\n",
       "  'uuid': 'eaCZW6_CSKazdi-nZeAFWw',\n",
       "  'pri': '1',\n",
       "  'rep': '1',\n",
       "  'docs.count': '140',\n",
       "  'docs.deleted': '26',\n",
       "  'store.size': '498kb',\n",
       "  'pri.store.size': '498kb'},\n",
       " {'health': 'yellow',\n",
       "  'status': 'open',\n",
       "  'index': '.map__point__world-countries_us_us-states_california_chinook-abundance_chinook-abundance--point-features-geojson',\n",
       "  'uuid': 'CnA6spvfRkuYQoBojbuA2Q',\n",
       "  'pri': '1',\n",
       "  'rep': '1',\n",
       "  'docs.count': '61',\n",
       "  'docs.deleted': '0',\n",
       "  'store.size': '45.6kb',\n",
       "  'pri.store.size': '45.6kb'},\n",
       " {'health': 'yellow',\n",
       "  'status': 'open',\n",
       "  'index': '.map__shape__world-countries_ireland_rail-network_irish-rail-network-geojson',\n",
       "  'uuid': 'GW65Z4NtQGm38_0hZL4uKA',\n",
       "  'pri': '1',\n",
       "  'rep': '1',\n",
       "  'docs.count': '479',\n",
       "  'docs.deleted': '0',\n",
       "  'store.size': '199.6kb',\n",
       "  'pri.store.size': '199.6kb'},\n",
       " {'health': 'yellow',\n",
       "  'status': 'open',\n",
       "  'index': '.sirenaccess',\n",
       "  'uuid': 'V-d3LkxzQWKu0BBDR5_mzQ',\n",
       "  'pri': '1',\n",
       "  'rep': '1',\n",
       "  'docs.count': '22',\n",
       "  'docs.deleted': '0',\n",
       "  'store.size': '16.7kb',\n",
       "  'pri.store.size': '16.7kb'},\n",
       " {'health': 'yellow',\n",
       "  'status': 'open',\n",
       "  'index': 'company',\n",
       "  'uuid': 'Atn1hXIQTPa8pwUyTcWLQA',\n",
       "  'pri': '1',\n",
       "  'rep': '1',\n",
       "  'docs.count': '160106',\n",
       "  'docs.deleted': '0',\n",
       "  'store.size': '166mb',\n",
       "  'pri.store.size': '166mb'},\n",
       " {'health': 'yellow',\n",
       "  'status': 'open',\n",
       "  'index': '.map__point__world-countries_us_us-states_california_steelhead-abundance_steelhead-abundance--point-features-geojson',\n",
       "  'uuid': 'ZLg8HXoUS4aaWxVhhye1Og',\n",
       "  'pri': '1',\n",
       "  'rep': '1',\n",
       "  'docs.count': '29',\n",
       "  'docs.deleted': '0',\n",
       "  'store.size': '99kb',\n",
       "  'pri.store.size': '99kb'},\n",
       " {'health': 'yellow',\n",
       "  'status': 'open',\n",
       "  'index': '.map__shape__world-countries_us_us-states_texas_city-polygons_texascitypolygons-geojson',\n",
       "  'uuid': 'r-iRbDCbQuKAEvxfAjmFeQ',\n",
       "  'pri': '1',\n",
       "  'rep': '1',\n",
       "  'docs.count': '1748',\n",
       "  'docs.deleted': '0',\n",
       "  'store.size': '22.5mb',\n",
       "  'pri.store.size': '22.5mb'},\n",
       " {'health': 'yellow',\n",
       "  'status': 'open',\n",
       "  'index': '.map__shape__world-lakes_ne-10m-lakes-geojson',\n",
       "  'uuid': '7enA8DhfT9G92HJhXlvPoQ',\n",
       "  'pri': '1',\n",
       "  'rep': '1',\n",
       "  'docs.count': '1353',\n",
       "  'docs.deleted': '0',\n",
       "  'store.size': '7.3mb',\n",
       "  'pri.store.size': '7.3mb'},\n",
       " {'health': 'yellow',\n",
       "  'status': 'open',\n",
       "  'index': 'company_revised',\n",
       "  'uuid': '-mRVSKm5ROqpmv44i6FuXg',\n",
       "  'pri': '1',\n",
       "  'rep': '1',\n",
       "  'docs.count': '0',\n",
       "  'docs.deleted': '0',\n",
       "  'store.size': '230b',\n",
       "  'pri.store.size': '230b'}]"
      ]
     },
     "execution_count": 6,
     "metadata": {},
     "output_type": "execute_result"
    },
    {
     "data": {
      "application/javascript": [
       "\n",
       "            setTimeout(function() {\n",
       "                var nbb_cell_id = 6;\n",
       "                var nbb_unformatted_code = \"resp.json()\";\n",
       "                var nbb_formatted_code = \"resp.json()\";\n",
       "                var nbb_cells = Jupyter.notebook.get_cells();\n",
       "                for (var i = 0; i < nbb_cells.length; ++i) {\n",
       "                    if (nbb_cells[i].input_prompt_number == nbb_cell_id) {\n",
       "                        if (nbb_cells[i].get_text() == nbb_unformatted_code) {\n",
       "                             nbb_cells[i].set_text(nbb_formatted_code);\n",
       "                        }\n",
       "                        break;\n",
       "                    }\n",
       "                }\n",
       "            }, 500);\n",
       "            "
      ],
      "text/plain": [
       "<IPython.core.display.Javascript object>"
      ]
     },
     "metadata": {},
     "output_type": "display_data"
    }
   ],
   "source": [
    "resp.json()"
   ]
  },
  {
   "cell_type": "code",
   "execution_count": 7,
   "id": "d45f512f",
   "metadata": {
    "ExecuteTime": {
     "end_time": "2021-07-12T16:38:30.339799Z",
     "start_time": "2021-07-12T16:38:29.867055Z"
    }
   },
   "outputs": [
    {
     "data": {
      "text/plain": [
       "['investor_revised',\n",
       " 'investment',\n",
       " 'article_revised',\n",
       " 'article',\n",
       " 'investment_revised',\n",
       " 'searchguard',\n",
       " 'investor',\n",
       " 'company',\n",
       " 'company_revised']"
      ]
     },
     "execution_count": 7,
     "metadata": {},
     "output_type": "execute_result"
    },
    {
     "data": {
      "application/javascript": [
       "\n",
       "            setTimeout(function() {\n",
       "                var nbb_cell_id = 7;\n",
       "                var nbb_unformatted_code = \"[row[\\\"index\\\"] for row in resp.json() if not row[\\\"index\\\"].startswith(\\\".\\\")]\";\n",
       "                var nbb_formatted_code = \"[row[\\\"index\\\"] for row in resp.json() if not row[\\\"index\\\"].startswith(\\\".\\\")]\";\n",
       "                var nbb_cells = Jupyter.notebook.get_cells();\n",
       "                for (var i = 0; i < nbb_cells.length; ++i) {\n",
       "                    if (nbb_cells[i].input_prompt_number == nbb_cell_id) {\n",
       "                        if (nbb_cells[i].get_text() == nbb_unformatted_code) {\n",
       "                             nbb_cells[i].set_text(nbb_formatted_code);\n",
       "                        }\n",
       "                        break;\n",
       "                    }\n",
       "                }\n",
       "            }, 500);\n",
       "            "
      ],
      "text/plain": [
       "<IPython.core.display.Javascript object>"
      ]
     },
     "metadata": {},
     "output_type": "display_data"
    }
   ],
   "source": [
    "[row[\"index\"] for row in resp.json() if not row[\"index\"].startswith(\".\")]"
   ]
  },
  {
   "cell_type": "markdown",
   "id": "21048bd7",
   "metadata": {},
   "source": [
    "### Vanilla ES\n",
    "\n",
    "Querying the `company` index"
   ]
  },
  {
   "cell_type": "markdown",
   "id": "ac3ffeac",
   "metadata": {},
   "source": [
    "#### Pull one result"
   ]
  },
  {
   "cell_type": "code",
   "execution_count": 8,
   "id": "98100dce",
   "metadata": {
    "ExecuteTime": {
     "end_time": "2021-07-12T16:38:30.742820Z",
     "start_time": "2021-07-12T16:38:30.342968Z"
    }
   },
   "outputs": [
    {
     "data": {
      "text/plain": [
       "{'took': 2,\n",
       " 'timed_out': False,\n",
       " '_shards': {'total': 1, 'successful': 1, 'skipped': 0, 'failed': 0},\n",
       " 'hits': {'total': {'value': 10000, 'relation': 'gte'},\n",
       "  'max_score': 1.0,\n",
       "  'hits': [{'_index': 'company',\n",
       "    '_type': 'Company',\n",
       "    '_id': 'BSy32XcBu9D2HElYRKk4',\n",
       "    '_score': 1.0,\n",
       "    '_ignored': ['deadpooled_date'],\n",
       "    '_source': {'webpage': '',\n",
       "     'phone_number': '4352004532',\n",
       "     'location': '40.5649781, -111.8389726',\n",
       "     'email_address': 'social@inspirationengine.com',\n",
       "     'city': 'Sandy',\n",
       "     'description': 'Simply *the* way to listen to customers.',\n",
       "     'homepage_url': 'http://www.inspirationengine.com',\n",
       "     'founded_month': 8,\n",
       "     'revenuecurrency': '',\n",
       "     'hasstatus': '',\n",
       "     'one_competitor': None,\n",
       "     'statecode': 'UT',\n",
       "     'deadpooled_date': '',\n",
       "     'url': 'http://www.crunchbase.com/company/inspiration-engine',\n",
       "     'freebaseid': '',\n",
       "     'number_of_employees': 1,\n",
       "     'revenue': '',\n",
       "     'permalink': 'inspiration-engine',\n",
       "     'founded_year': 2010,\n",
       "     'id': 'company/inspiration-engine',\n",
       "     'category_code': 'software',\n",
       "     'overview': '<p>Inspiration Engine connects businesses with the emotions of the people that matter. Our e.mote(r) on-demand software is a new approach to measuring customer engagement through emotion and facial expression psychology. </p>\\n<p>Businesses invest billions in advertising, social media marketing, communications, and services &#8211; all with the intention of engaging people and monetizing that engagement.</p>\\n<p>Current social monitoring, customer feedback management, and customer loyalty metrics do not address the single most important predictor of customer satisfaction and action: people&#8217;s emotions. Without measuring emotional engagement, it is not possible to fully gauge the effectiveness of investments in social media presence, brand advertising and social commerce, as well as services and marketing communications. </p>\\n<p>Today, there is no simple, fast, and effective way to monitor and measure customers&#8217; emotional engagement.</p>\\n<p>Inspiration Engine&#8217;s e.mote software-as-a-service platform allows organizations to survey, monitor, and measure customer engagement at key points across the enterprise; it then aggregates and presents that data through interactive, real-time dashboards. </p>\\n<p>e.mote is simply THE way to listen to your customers. </p>',\n",
       "     'label': 'Inspiration Engine',\n",
       "     'blog_url': 'http://inspirationengine.com/?cat=6',\n",
       "     'blog_feed_url': '',\n",
       "     'founded_date': '2010-08-18 00:00:00',\n",
       "     'revenuedate': '',\n",
       "     'label-not-analyzed': 'Inspiration Engine',\n",
       "     'countrycode': 'USA'}}]}}"
      ]
     },
     "execution_count": 8,
     "metadata": {},
     "output_type": "execute_result"
    },
    {
     "data": {
      "application/javascript": [
       "\n",
       "            setTimeout(function() {\n",
       "                var nbb_cell_id = 8;\n",
       "                var nbb_unformatted_code = \"endpoint = \\\"/company/_search\\\"\\nbody = {\\\"size\\\": 1}\\n\\nclient.post(endpoint, json=body).json()\";\n",
       "                var nbb_formatted_code = \"endpoint = \\\"/company/_search\\\"\\nbody = {\\\"size\\\": 1}\\n\\nclient.post(endpoint, json=body).json()\";\n",
       "                var nbb_cells = Jupyter.notebook.get_cells();\n",
       "                for (var i = 0; i < nbb_cells.length; ++i) {\n",
       "                    if (nbb_cells[i].input_prompt_number == nbb_cell_id) {\n",
       "                        if (nbb_cells[i].get_text() == nbb_unformatted_code) {\n",
       "                             nbb_cells[i].set_text(nbb_formatted_code);\n",
       "                        }\n",
       "                        break;\n",
       "                    }\n",
       "                }\n",
       "            }, 500);\n",
       "            "
      ],
      "text/plain": [
       "<IPython.core.display.Javascript object>"
      ]
     },
     "metadata": {},
     "output_type": "display_data"
    }
   ],
   "source": [
    "endpoint = \"/company/_search\"\n",
    "body = {\"size\": 1}\n",
    "\n",
    "client.post(endpoint, json=body).json()"
   ]
  },
  {
   "cell_type": "markdown",
   "id": "4d8c81ed",
   "metadata": {},
   "source": [
    "#### Bucket aggregation"
   ]
  },
  {
   "cell_type": "code",
   "execution_count": 9,
   "id": "338c8c98",
   "metadata": {
    "ExecuteTime": {
     "end_time": "2021-07-12T16:38:31.244035Z",
     "start_time": "2021-07-12T16:38:30.745944Z"
    }
   },
   "outputs": [
    {
     "data": {
      "text/plain": [
       "{'took': 8,\n",
       " 'timed_out': False,\n",
       " '_shards': {'total': 1, 'successful': 1, 'skipped': 0, 'failed': 0},\n",
       " 'hits': {'total': {'value': 10000, 'relation': 'gte'},\n",
       "  'max_score': None,\n",
       "  'hits': []},\n",
       " 'aggregations': {'by_country': {'doc_count_error_upper_bound': 0,\n",
       "   'sum_other_doc_count': 10626,\n",
       "   'buckets': [{'key': 'USA', 'doc_count': 46192},\n",
       "    {'key': 'GBR', 'doc_count': 6200},\n",
       "    {'key': 'IND', 'doc_count': 3131},\n",
       "    {'key': 'CAN', 'doc_count': 3062},\n",
       "    {'key': 'DEU', 'doc_count': 1607},\n",
       "    {'key': 'FRA', 'doc_count': 1401},\n",
       "    {'key': 'AUS', 'doc_count': 1142},\n",
       "    {'key': 'ESP', 'doc_count': 918},\n",
       "    {'key': 'ISR', 'doc_count': 852},\n",
       "    {'key': 'NLD', 'doc_count': 745}]}}}"
      ]
     },
     "execution_count": 9,
     "metadata": {},
     "output_type": "execute_result"
    },
    {
     "data": {
      "application/javascript": [
       "\n",
       "            setTimeout(function() {\n",
       "                var nbb_cell_id = 9;\n",
       "                var nbb_unformatted_code = \"endpoint = \\\"/company/_search\\\"\\n\\n# with no query filter, and not pulling any results back\\nbody = {\\\"size\\\": 0, \\\"aggregations\\\": {\\\"by_country\\\": {\\\"terms\\\": {\\\"field\\\": \\\"countrycode\\\"}}}}\\n\\nresp = client.post(endpoint, json=body)\\nresp.json()\";\n",
       "                var nbb_formatted_code = \"endpoint = \\\"/company/_search\\\"\\n\\n# with no query filter, and not pulling any results back\\nbody = {\\\"size\\\": 0, \\\"aggregations\\\": {\\\"by_country\\\": {\\\"terms\\\": {\\\"field\\\": \\\"countrycode\\\"}}}}\\n\\nresp = client.post(endpoint, json=body)\\nresp.json()\";\n",
       "                var nbb_cells = Jupyter.notebook.get_cells();\n",
       "                for (var i = 0; i < nbb_cells.length; ++i) {\n",
       "                    if (nbb_cells[i].input_prompt_number == nbb_cell_id) {\n",
       "                        if (nbb_cells[i].get_text() == nbb_unformatted_code) {\n",
       "                             nbb_cells[i].set_text(nbb_formatted_code);\n",
       "                        }\n",
       "                        break;\n",
       "                    }\n",
       "                }\n",
       "            }, 500);\n",
       "            "
      ],
      "text/plain": [
       "<IPython.core.display.Javascript object>"
      ]
     },
     "metadata": {},
     "output_type": "display_data"
    }
   ],
   "source": [
    "endpoint = \"/company/_search\"\n",
    "\n",
    "# with no query filter, and not pulling any results back\n",
    "body = {\"size\": 0, \"aggregations\": {\"by_country\": {\"terms\": {\"field\": \"countrycode\"}}}}\n",
    "\n",
    "resp = client.post(endpoint, json=body)\n",
    "resp.json()"
   ]
  },
  {
   "cell_type": "code",
   "execution_count": 10,
   "id": "dc44eebf",
   "metadata": {
    "ExecuteTime": {
     "end_time": "2021-07-12T16:38:31.824428Z",
     "start_time": "2021-07-12T16:38:31.248305Z"
    }
   },
   "outputs": [
    {
     "data": {
      "text/plain": [
       "{'took': 2,\n",
       " 'timed_out': False,\n",
       " '_shards': {'total': 1, 'successful': 1, 'skipped': 0, 'failed': 0},\n",
       " 'hits': {'total': {'value': 10000, 'relation': 'gte'},\n",
       "  'max_score': None,\n",
       "  'hits': []},\n",
       " 'aggregations': {'by_city': {'doc_count_error_upper_bound': 0,\n",
       "   'sum_other_doc_count': 32263,\n",
       "   'buckets': [{'key': 'New York', 'doc_count': 3472},\n",
       "    {'key': 'San Francisco', 'doc_count': 3374},\n",
       "    {'key': 'Seattle', 'doc_count': 877},\n",
       "    {'key': 'Los Angeles', 'doc_count': 866},\n",
       "    {'key': 'Chicago', 'doc_count': 853},\n",
       "    {'key': 'San Diego', 'doc_count': 732},\n",
       "    {'key': 'Austin', 'doc_count': 731},\n",
       "    {'key': 'Palo Alto', 'doc_count': 722},\n",
       "    {'key': 'San Jose', 'doc_count': 588},\n",
       "    {'key': 'Mountain View', 'doc_count': 560}]}}}"
      ]
     },
     "execution_count": 10,
     "metadata": {},
     "output_type": "execute_result"
    },
    {
     "data": {
      "application/javascript": [
       "\n",
       "            setTimeout(function() {\n",
       "                var nbb_cell_id = 10;\n",
       "                var nbb_unformatted_code = \"endpoint = \\\"/company/_search\\\"\\n\\n# with a query filter\\nbody = {\\n    \\\"size\\\": 0,\\n    \\\"query\\\": {\\\"query_string\\\": {\\\"query\\\": \\\"countrycode: USA\\\"}},\\n    \\\"aggregations\\\": {\\\"by_city\\\": {\\\"terms\\\": {\\\"field\\\": \\\"city\\\"}}},\\n}\\n\\n\\nresp = client.post(endpoint, json=body)\\nresp.json()\";\n",
       "                var nbb_formatted_code = \"endpoint = \\\"/company/_search\\\"\\n\\n# with a query filter\\nbody = {\\n    \\\"size\\\": 0,\\n    \\\"query\\\": {\\\"query_string\\\": {\\\"query\\\": \\\"countrycode: USA\\\"}},\\n    \\\"aggregations\\\": {\\\"by_city\\\": {\\\"terms\\\": {\\\"field\\\": \\\"city\\\"}}},\\n}\\n\\n\\nresp = client.post(endpoint, json=body)\\nresp.json()\";\n",
       "                var nbb_cells = Jupyter.notebook.get_cells();\n",
       "                for (var i = 0; i < nbb_cells.length; ++i) {\n",
       "                    if (nbb_cells[i].input_prompt_number == nbb_cell_id) {\n",
       "                        if (nbb_cells[i].get_text() == nbb_unformatted_code) {\n",
       "                             nbb_cells[i].set_text(nbb_formatted_code);\n",
       "                        }\n",
       "                        break;\n",
       "                    }\n",
       "                }\n",
       "            }, 500);\n",
       "            "
      ],
      "text/plain": [
       "<IPython.core.display.Javascript object>"
      ]
     },
     "metadata": {},
     "output_type": "display_data"
    }
   ],
   "source": [
    "endpoint = \"/company/_search\"\n",
    "\n",
    "# with a query filter\n",
    "body = {\n",
    "    \"size\": 0,\n",
    "    \"query\": {\"query_string\": {\"query\": \"countrycode: USA\"}},\n",
    "    \"aggregations\": {\"by_city\": {\"terms\": {\"field\": \"city\"}}},\n",
    "}\n",
    "\n",
    "\n",
    "resp = client.post(endpoint, json=body)\n",
    "resp.json()"
   ]
  },
  {
   "cell_type": "markdown",
   "id": "2715cbb3",
   "metadata": {},
   "source": [
    "### Siren\n",
    "\n",
    "The `/siren/<index>/_search` endpoint behaves exactly like Vanilla ES but it accepts more DSL options"
   ]
  },
  {
   "cell_type": "code",
   "execution_count": 11,
   "id": "c97aedc5",
   "metadata": {
    "ExecuteTime": {
     "end_time": "2021-07-12T16:38:32.247231Z",
     "start_time": "2021-07-12T16:38:31.826952Z"
    }
   },
   "outputs": [
    {
     "data": {
      "text/plain": [
       "{'pit_id': 'ad6f1580-f448-49c5-a909-d4c4959bc5a5',\n",
       " 'took': 2,\n",
       " 'timed_out': False,\n",
       " '_shards': {'total': 1, 'successful': 1, 'skipped': 0, 'failed': 0},\n",
       " 'hits': {'total': {'value': 10000, 'relation': 'gte'},\n",
       "  'max_score': 1.0,\n",
       "  'hits': [{'_index': 'company',\n",
       "    '_type': 'Company',\n",
       "    '_id': 'BSy32XcBu9D2HElYRKk4',\n",
       "    '_score': 1.0,\n",
       "    '_ignored': ['deadpooled_date'],\n",
       "    '_source': {'webpage': '',\n",
       "     'phone_number': '4352004532',\n",
       "     'location': '40.5649781, -111.8389726',\n",
       "     'email_address': 'social@inspirationengine.com',\n",
       "     'city': 'Sandy',\n",
       "     'description': 'Simply *the* way to listen to customers.',\n",
       "     'homepage_url': 'http://www.inspirationengine.com',\n",
       "     'founded_month': 8,\n",
       "     'revenuecurrency': '',\n",
       "     'hasstatus': '',\n",
       "     'one_competitor': None,\n",
       "     'statecode': 'UT',\n",
       "     'deadpooled_date': '',\n",
       "     'url': 'http://www.crunchbase.com/company/inspiration-engine',\n",
       "     'freebaseid': '',\n",
       "     'number_of_employees': 1,\n",
       "     'revenue': '',\n",
       "     'permalink': 'inspiration-engine',\n",
       "     'founded_year': 2010,\n",
       "     'id': 'company/inspiration-engine',\n",
       "     'category_code': 'software',\n",
       "     'overview': '<p>Inspiration Engine connects businesses with the emotions of the people that matter. Our e.mote(r) on-demand software is a new approach to measuring customer engagement through emotion and facial expression psychology. </p>\\n<p>Businesses invest billions in advertising, social media marketing, communications, and services &#8211; all with the intention of engaging people and monetizing that engagement.</p>\\n<p>Current social monitoring, customer feedback management, and customer loyalty metrics do not address the single most important predictor of customer satisfaction and action: people&#8217;s emotions. Without measuring emotional engagement, it is not possible to fully gauge the effectiveness of investments in social media presence, brand advertising and social commerce, as well as services and marketing communications. </p>\\n<p>Today, there is no simple, fast, and effective way to monitor and measure customers&#8217; emotional engagement.</p>\\n<p>Inspiration Engine&#8217;s e.mote software-as-a-service platform allows organizations to survey, monitor, and measure customer engagement at key points across the enterprise; it then aggregates and presents that data through interactive, real-time dashboards. </p>\\n<p>e.mote is simply THE way to listen to your customers. </p>',\n",
       "     'label': 'Inspiration Engine',\n",
       "     'blog_url': 'http://inspirationengine.com/?cat=6',\n",
       "     'blog_feed_url': '',\n",
       "     'founded_date': '2010-08-18 00:00:00',\n",
       "     'revenuedate': '',\n",
       "     'label-not-analyzed': 'Inspiration Engine',\n",
       "     'countrycode': 'USA'}}]},\n",
       " 'planner': {'node': 'cgHzCgtkTOGjxN_XV-tgsw',\n",
       "  'took_in_millis': 11,\n",
       "  'timestamp': {'start_in_millis': 1626107912223,\n",
       "   'stop_in_millis': 1626107912234,\n",
       "   'took_in_millis': 11},\n",
       "  'is_pruned': False,\n",
       "  'is_truncated': False}}"
      ]
     },
     "execution_count": 11,
     "metadata": {},
     "output_type": "execute_result"
    },
    {
     "data": {
      "application/javascript": [
       "\n",
       "            setTimeout(function() {\n",
       "                var nbb_cell_id = 11;\n",
       "                var nbb_unformatted_code = \"# showing same behavior as Vanilla ES\\nendpoint = \\\"/siren/company/_search\\\"\\n\\nbody = {\\\"size\\\": 1}\\n\\nclient.post(endpoint, json=body).json()\";\n",
       "                var nbb_formatted_code = \"# showing same behavior as Vanilla ES\\nendpoint = \\\"/siren/company/_search\\\"\\n\\nbody = {\\\"size\\\": 1}\\n\\nclient.post(endpoint, json=body).json()\";\n",
       "                var nbb_cells = Jupyter.notebook.get_cells();\n",
       "                for (var i = 0; i < nbb_cells.length; ++i) {\n",
       "                    if (nbb_cells[i].input_prompt_number == nbb_cell_id) {\n",
       "                        if (nbb_cells[i].get_text() == nbb_unformatted_code) {\n",
       "                             nbb_cells[i].set_text(nbb_formatted_code);\n",
       "                        }\n",
       "                        break;\n",
       "                    }\n",
       "                }\n",
       "            }, 500);\n",
       "            "
      ],
      "text/plain": [
       "<IPython.core.display.Javascript object>"
      ]
     },
     "metadata": {},
     "output_type": "display_data"
    }
   ],
   "source": [
    "# showing same behavior as Vanilla ES\n",
    "endpoint = \"/siren/company/_search\"\n",
    "\n",
    "body = {\"size\": 1}\n",
    "\n",
    "client.post(endpoint, json=body).json()"
   ]
  },
  {
   "cell_type": "markdown",
   "id": "f1dbd4ad",
   "metadata": {},
   "source": [
    "#### Joined query"
   ]
  },
  {
   "cell_type": "code",
   "execution_count": 12,
   "id": "faae84da",
   "metadata": {
    "ExecuteTime": {
     "end_time": "2021-07-12T16:38:32.425672Z",
     "start_time": "2021-07-12T16:38:32.249557Z"
    }
   },
   "outputs": [
    {
     "data": {
      "text/plain": [
       "{'pit_id': 'a8b4dbd8-349d-4487-a0b7-fa58cd4cc392',\n",
       " 'took': 3,\n",
       " 'timed_out': False,\n",
       " '_shards': {'total': 1, 'successful': 1, 'skipped': 0, 'failed': 0},\n",
       " 'hits': {'total': {'value': 921, 'relation': 'eq'},\n",
       "  'max_score': 1.0,\n",
       "  'hits': [{'_index': 'company',\n",
       "    '_type': 'Company',\n",
       "    '_id': '6Sy32XcBu9D2HElYQ6bx',\n",
       "    '_score': 1.0,\n",
       "    '_ignored': ['deadpooled_date'],\n",
       "    '_source': {'webpage': '',\n",
       "     'phone_number': '',\n",
       "     'location': None,\n",
       "     'email_address': 'info@favorites.bz',\n",
       "     'city': None,\n",
       "     'description': 'Visual Web Directory',\n",
       "     'homepage_url': 'http://www.favorites.bz',\n",
       "     'founded_month': 10,\n",
       "     'revenuecurrency': '',\n",
       "     'hasstatus': '',\n",
       "     'one_competitor': 'company/allmyfaves',\n",
       "     'statecode': None,\n",
       "     'deadpooled_date': '',\n",
       "     'url': 'http://www.crunchbase.com/company/favorites',\n",
       "     'freebaseid': '',\n",
       "     'number_of_employees': 2,\n",
       "     'revenue': '',\n",
       "     'permalink': 'favorites',\n",
       "     'founded_year': 2012,\n",
       "     'id': 'company/favorites',\n",
       "     'category_code': 'search',\n",
       "     'overview': '<p>We are a responsive visual web directory providing global top sites from the top countries in the world. </p>',\n",
       "     'label': 'Favorites',\n",
       "     'blog_url': '',\n",
       "     'blog_feed_url': '',\n",
       "     'founded_date': '2012-09-30 00:00:00',\n",
       "     'revenuedate': '',\n",
       "     'label-not-analyzed': 'Favorites',\n",
       "     'countrycode': None}}]},\n",
       " 'planner': {'node': 'cgHzCgtkTOGjxN_XV-tgsw',\n",
       "  'took_in_millis': 25,\n",
       "  'timestamp': {'start_in_millis': 1626107912380,\n",
       "   'stop_in_millis': 1626107912405,\n",
       "   'took_in_millis': 25},\n",
       "  'is_pruned': False,\n",
       "  'is_truncated': False}}"
      ]
     },
     "execution_count": 12,
     "metadata": {},
     "output_type": "execute_result"
    },
    {
     "data": {
      "application/javascript": [
       "\n",
       "            setTimeout(function() {\n",
       "                var nbb_cell_id = 12;\n",
       "                var nbb_unformatted_code = \"endpoint = \\\"/siren/company/_search\\\"\\n\\n# Only companies that have been reported on by NYT\\nbody = {\\n    \\\"size\\\": 1,\\n    \\\"query\\\": {\\n        \\\"join\\\": {\\n            \\\"indices\\\": [\\\"article\\\"],\\n            \\\"on\\\": [\\\"id\\\", \\\"companies\\\"],\\n            \\\"request\\\": {\\n                \\\"query\\\": {\\\"query_string\\\": {\\\"query\\\": 'article.source:\\\"New York Times\\\"'}},\\n            },\\n        },\\n    },\\n}\\n\\nclient.post(endpoint, json=body).json()\";\n",
       "                var nbb_formatted_code = \"endpoint = \\\"/siren/company/_search\\\"\\n\\n# Only companies that have been reported on by NYT\\nbody = {\\n    \\\"size\\\": 1,\\n    \\\"query\\\": {\\n        \\\"join\\\": {\\n            \\\"indices\\\": [\\\"article\\\"],\\n            \\\"on\\\": [\\\"id\\\", \\\"companies\\\"],\\n            \\\"request\\\": {\\n                \\\"query\\\": {\\\"query_string\\\": {\\\"query\\\": 'article.source:\\\"New York Times\\\"'}},\\n            },\\n        },\\n    },\\n}\\n\\nclient.post(endpoint, json=body).json()\";\n",
       "                var nbb_cells = Jupyter.notebook.get_cells();\n",
       "                for (var i = 0; i < nbb_cells.length; ++i) {\n",
       "                    if (nbb_cells[i].input_prompt_number == nbb_cell_id) {\n",
       "                        if (nbb_cells[i].get_text() == nbb_unformatted_code) {\n",
       "                             nbb_cells[i].set_text(nbb_formatted_code);\n",
       "                        }\n",
       "                        break;\n",
       "                    }\n",
       "                }\n",
       "            }, 500);\n",
       "            "
      ],
      "text/plain": [
       "<IPython.core.display.Javascript object>"
      ]
     },
     "metadata": {},
     "output_type": "display_data"
    }
   ],
   "source": [
    "endpoint = \"/siren/company/_search\"\n",
    "\n",
    "# Only companies that have been reported on by NYT\n",
    "body = {\n",
    "    \"size\": 1,\n",
    "    \"query\": {\n",
    "        \"join\": {\n",
    "            \"indices\": [\"article\"],\n",
    "            \"on\": [\"id\", \"companies\"],\n",
    "            \"request\": {\n",
    "                \"query\": {\"query_string\": {\"query\": 'article.source:\"New York Times\"'}},\n",
    "            },\n",
    "        },\n",
    "    },\n",
    "}\n",
    "\n",
    "client.post(endpoint, json=body).json()"
   ]
  },
  {
   "cell_type": "markdown",
   "id": "cb18b54c",
   "metadata": {},
   "source": [
    "#### Sanity check the join\n",
    "\n",
    "If we wanted to \"manually\" do what Siren is offering in the previous join query, we could grab all companies reported on by NYT using a bucket aggregation in the `article` index, then query for everything in the `company` index with a terms query.  "
   ]
  },
  {
   "cell_type": "code",
   "execution_count": 13,
   "id": "6272fe11",
   "metadata": {
    "ExecuteTime": {
     "end_time": "2021-07-12T16:38:32.775202Z",
     "start_time": "2021-07-12T16:38:32.428807Z"
    }
   },
   "outputs": [
    {
     "data": {
      "text/plain": [
       "921"
      ]
     },
     "execution_count": 13,
     "metadata": {},
     "output_type": "execute_result"
    },
    {
     "data": {
      "application/javascript": [
       "\n",
       "            setTimeout(function() {\n",
       "                var nbb_cell_id = 13;\n",
       "                var nbb_unformatted_code = \"endpoint = \\\"/siren/article/_search\\\"\\n\\nbody = {\\n    \\\"size\\\": 0,\\n    \\\"query\\\": {\\\"query_string\\\": {\\\"query\\\": 'article.source:\\\"New York Times\\\"'}},\\n    \\\"aggregations\\\": {\\\"companies\\\": {\\\"terms\\\": {\\\"field\\\": \\\"companies\\\", \\\"size\\\": 50000}}},\\n}\\n\\nresp = client.post(endpoint, json=body)\\njs = resp.json()\\nbuckets = js[\\\"aggregations\\\"][\\\"companies\\\"][\\\"buckets\\\"]\\ncompanies = [row[\\\"key\\\"] for row in buckets]\\nlen(companies)\";\n",
       "                var nbb_formatted_code = \"endpoint = \\\"/siren/article/_search\\\"\\n\\nbody = {\\n    \\\"size\\\": 0,\\n    \\\"query\\\": {\\\"query_string\\\": {\\\"query\\\": 'article.source:\\\"New York Times\\\"'}},\\n    \\\"aggregations\\\": {\\\"companies\\\": {\\\"terms\\\": {\\\"field\\\": \\\"companies\\\", \\\"size\\\": 50000}}},\\n}\\n\\nresp = client.post(endpoint, json=body)\\njs = resp.json()\\nbuckets = js[\\\"aggregations\\\"][\\\"companies\\\"][\\\"buckets\\\"]\\ncompanies = [row[\\\"key\\\"] for row in buckets]\\nlen(companies)\";\n",
       "                var nbb_cells = Jupyter.notebook.get_cells();\n",
       "                for (var i = 0; i < nbb_cells.length; ++i) {\n",
       "                    if (nbb_cells[i].input_prompt_number == nbb_cell_id) {\n",
       "                        if (nbb_cells[i].get_text() == nbb_unformatted_code) {\n",
       "                             nbb_cells[i].set_text(nbb_formatted_code);\n",
       "                        }\n",
       "                        break;\n",
       "                    }\n",
       "                }\n",
       "            }, 500);\n",
       "            "
      ],
      "text/plain": [
       "<IPython.core.display.Javascript object>"
      ]
     },
     "metadata": {},
     "output_type": "display_data"
    }
   ],
   "source": [
    "endpoint = \"/siren/article/_search\"\n",
    "\n",
    "body = {\n",
    "    \"size\": 0,\n",
    "    \"query\": {\"query_string\": {\"query\": 'article.source:\"New York Times\"'}},\n",
    "    \"aggregations\": {\"companies\": {\"terms\": {\"field\": \"companies\", \"size\": 50000}}},\n",
    "}\n",
    "\n",
    "resp = client.post(endpoint, json=body)\n",
    "js = resp.json()\n",
    "buckets = js[\"aggregations\"][\"companies\"][\"buckets\"]\n",
    "companies = [row[\"key\"] for row in buckets]\n",
    "len(companies)"
   ]
  },
  {
   "cell_type": "code",
   "execution_count": 14,
   "id": "7c5cb96c",
   "metadata": {
    "ExecuteTime": {
     "end_time": "2021-07-12T16:38:32.823960Z",
     "start_time": "2021-07-12T16:38:32.778004Z"
    }
   },
   "outputs": [
    {
     "data": {
      "text/plain": [
       "['company/google',\n",
       " 'company/apple',\n",
       " 'company/microsoft',\n",
       " 'company/facebook',\n",
       " 'company/yahoo']"
      ]
     },
     "execution_count": 14,
     "metadata": {},
     "output_type": "execute_result"
    },
    {
     "data": {
      "application/javascript": [
       "\n",
       "            setTimeout(function() {\n",
       "                var nbb_cell_id = 14;\n",
       "                var nbb_unformatted_code = \"companies[:5]\";\n",
       "                var nbb_formatted_code = \"companies[:5]\";\n",
       "                var nbb_cells = Jupyter.notebook.get_cells();\n",
       "                for (var i = 0; i < nbb_cells.length; ++i) {\n",
       "                    if (nbb_cells[i].input_prompt_number == nbb_cell_id) {\n",
       "                        if (nbb_cells[i].get_text() == nbb_unformatted_code) {\n",
       "                             nbb_cells[i].set_text(nbb_formatted_code);\n",
       "                        }\n",
       "                        break;\n",
       "                    }\n",
       "                }\n",
       "            }, 500);\n",
       "            "
      ],
      "text/plain": [
       "<IPython.core.display.Javascript object>"
      ]
     },
     "metadata": {},
     "output_type": "display_data"
    }
   ],
   "source": [
    "companies[:5]"
   ]
  },
  {
   "cell_type": "code",
   "execution_count": 15,
   "id": "56e1f91a",
   "metadata": {
    "ExecuteTime": {
     "end_time": "2021-07-12T16:38:33.124185Z",
     "start_time": "2021-07-12T16:38:32.826079Z"
    }
   },
   "outputs": [
    {
     "data": {
      "text/plain": [
       "{'pit_id': '063aa619-4bc4-4304-b5a3-c9b972663ff9',\n",
       " 'took': 22,\n",
       " 'timed_out': False,\n",
       " '_shards': {'total': 1, 'successful': 1, 'skipped': 0, 'failed': 0},\n",
       " 'hits': {'total': {'value': 921, 'relation': 'eq'},\n",
       "  'max_score': 1.0,\n",
       "  'hits': [{'_index': 'company',\n",
       "    '_type': 'Company',\n",
       "    '_id': '6Sy32XcBu9D2HElYQ6bx',\n",
       "    '_score': 1.0,\n",
       "    '_ignored': ['deadpooled_date'],\n",
       "    '_source': {'webpage': '',\n",
       "     'phone_number': '',\n",
       "     'location': None,\n",
       "     'email_address': 'info@favorites.bz',\n",
       "     'city': None,\n",
       "     'description': 'Visual Web Directory',\n",
       "     'homepage_url': 'http://www.favorites.bz',\n",
       "     'founded_month': 10,\n",
       "     'revenuecurrency': '',\n",
       "     'hasstatus': '',\n",
       "     'one_competitor': 'company/allmyfaves',\n",
       "     'statecode': None,\n",
       "     'deadpooled_date': '',\n",
       "     'url': 'http://www.crunchbase.com/company/favorites',\n",
       "     'freebaseid': '',\n",
       "     'number_of_employees': 2,\n",
       "     'revenue': '',\n",
       "     'permalink': 'favorites',\n",
       "     'founded_year': 2012,\n",
       "     'id': 'company/favorites',\n",
       "     'category_code': 'search',\n",
       "     'overview': '<p>We are a responsive visual web directory providing global top sites from the top countries in the world. </p>',\n",
       "     'label': 'Favorites',\n",
       "     'blog_url': '',\n",
       "     'blog_feed_url': '',\n",
       "     'founded_date': '2012-09-30 00:00:00',\n",
       "     'revenuedate': '',\n",
       "     'label-not-analyzed': 'Favorites',\n",
       "     'countrycode': None}}]},\n",
       " 'planner': {'node': 'cgHzCgtkTOGjxN_XV-tgsw',\n",
       "  'took_in_millis': 34,\n",
       "  'timestamp': {'start_in_millis': 1626107913072,\n",
       "   'stop_in_millis': 1626107913106,\n",
       "   'took_in_millis': 34},\n",
       "  'is_pruned': False,\n",
       "  'is_truncated': False}}"
      ]
     },
     "execution_count": 15,
     "metadata": {},
     "output_type": "execute_result"
    },
    {
     "data": {
      "application/javascript": [
       "\n",
       "            setTimeout(function() {\n",
       "                var nbb_cell_id = 15;\n",
       "                var nbb_unformatted_code = \"endpoint = \\\"/siren/company/_search\\\"\\n\\nbody = {\\\"size\\\": 1, \\\"query\\\": {\\\"terms\\\": {\\\"id\\\": companies}}}\\nresp = client.post(endpoint, json=body)\\nresp.json()\";\n",
       "                var nbb_formatted_code = \"endpoint = \\\"/siren/company/_search\\\"\\n\\nbody = {\\\"size\\\": 1, \\\"query\\\": {\\\"terms\\\": {\\\"id\\\": companies}}}\\nresp = client.post(endpoint, json=body)\\nresp.json()\";\n",
       "                var nbb_cells = Jupyter.notebook.get_cells();\n",
       "                for (var i = 0; i < nbb_cells.length; ++i) {\n",
       "                    if (nbb_cells[i].input_prompt_number == nbb_cell_id) {\n",
       "                        if (nbb_cells[i].get_text() == nbb_unformatted_code) {\n",
       "                             nbb_cells[i].set_text(nbb_formatted_code);\n",
       "                        }\n",
       "                        break;\n",
       "                    }\n",
       "                }\n",
       "            }, 500);\n",
       "            "
      ],
      "text/plain": [
       "<IPython.core.display.Javascript object>"
      ]
     },
     "metadata": {},
     "output_type": "display_data"
    }
   ],
   "source": [
    "endpoint = \"/siren/company/_search\"\n",
    "\n",
    "body = {\"size\": 1, \"query\": {\"terms\": {\"id\": companies}}}\n",
    "resp = client.post(endpoint, json=body)\n",
    "resp.json()"
   ]
  },
  {
   "cell_type": "markdown",
   "id": "0cfc3387",
   "metadata": {},
   "source": [
    "#### Filter on original and joined index"
   ]
  },
  {
   "cell_type": "code",
   "execution_count": 16,
   "id": "748aa361",
   "metadata": {
    "ExecuteTime": {
     "end_time": "2021-07-12T16:38:33.275967Z",
     "start_time": "2021-07-12T16:38:33.127288Z"
    }
   },
   "outputs": [
    {
     "data": {
      "text/plain": [
       "{'pit_id': 'cdf084e7-7ac0-4422-9d29-3ca168552bf0',\n",
       " 'took': 6,\n",
       " 'timed_out': False,\n",
       " '_shards': {'total': 1, 'successful': 1, 'skipped': 0, 'failed': 0},\n",
       " 'hits': {'total': {'value': 3, 'relation': 'eq'},\n",
       "  'max_score': 5.270296,\n",
       "  'hits': [{'_index': 'company',\n",
       "    '_type': 'Company',\n",
       "    '_id': '2S232XcBu9D2HElYgbAu',\n",
       "    '_score': 5.270296,\n",
       "    '_ignored': ['deadpooled_date'],\n",
       "    '_source': {'webpage': '',\n",
       "     'phone_number': '',\n",
       "     'location': '39.2894651, -76.6166397',\n",
       "     'email_address': '',\n",
       "     'city': 'Baltimore',\n",
       "     'description': 'New Times Demand New Journalism',\n",
       "     'homepage_url': 'http://www.thedaily.com',\n",
       "     'founded_month': 0,\n",
       "     'revenuecurrency': '',\n",
       "     'hasstatus': '',\n",
       "     'one_competitor': None,\n",
       "     'statecode': 'MD',\n",
       "     'deadpooled_date': '',\n",
       "     'url': 'http://www.crunchbase.com/company/the-daily',\n",
       "     'freebaseid': '',\n",
       "     'number_of_employees': None,\n",
       "     'revenue': '',\n",
       "     'permalink': 'the-daily',\n",
       "     'founded_year': 1888,\n",
       "     'id': 'company/the-daily',\n",
       "     'category_code': 'other',\n",
       "     'overview': '<p>The Daily launched on January 17, 2011 with the mission to provide the best news experience by combining world-class storytelling with the unique interactive capabilities of the iPad.</p>\\n<p>Led by Editor-in-Chief Jesse Angelo and Publisher Greg Clayman, The Daily is a category first: a tablet-native national news brand built from the ground up to publish original content exclusively for the iPad.</p>\\n<p>The Daily is incisive, optimistic, and independent. It&#8217;s not just an app        it&#8217;s a new voice. The Daily is offered exclusively in Apple&#8217;s iPad App Store and is available free for two weeks. It costs just 99 cents a week, or $39.99 a year.</p>',\n",
       "     'label': 'The Daily',\n",
       "     'blog_url': 'http://blog.thedaily.com/',\n",
       "     'blog_feed_url': '',\n",
       "     'founded_date': '1887-11-30 00:00:00',\n",
       "     'revenuedate': '',\n",
       "     'label-not-analyzed': 'The Daily',\n",
       "     'countrycode': 'USA'}}]},\n",
       " 'planner': {'node': 'cgHzCgtkTOGjxN_XV-tgsw',\n",
       "  'took_in_millis': 28,\n",
       "  'timestamp': {'start_in_millis': 1626107913220,\n",
       "   'stop_in_millis': 1626107913248,\n",
       "   'took_in_millis': 28},\n",
       "  'is_pruned': False,\n",
       "  'is_truncated': False}}"
      ]
     },
     "execution_count": 16,
     "metadata": {},
     "output_type": "execute_result"
    },
    {
     "data": {
      "application/javascript": [
       "\n",
       "            setTimeout(function() {\n",
       "                var nbb_cell_id = 16;\n",
       "                var nbb_unformatted_code = \"endpoint = \\\"/siren/company/_search\\\"\\n\\n# Copmanies located in MD that have been reported on by NYT\\nbody = {\\n    \\\"size\\\": 1,\\n    \\\"query\\\": {\\n        \\\"bool\\\": {\\n            \\\"must\\\": [\\n                {\\\"query_string\\\": {\\\"query\\\": \\\"statecode:MD\\\"}},\\n                {\\n                    \\\"join\\\": {\\n                        \\\"indices\\\": [\\\"article\\\"],\\n                        \\\"on\\\": [\\\"id\\\", \\\"companies\\\"],\\n                        \\\"request\\\": {\\n                            \\\"query\\\": {\\n                                \\\"query_string\\\": {\\n                                    \\\"query\\\": 'article.source:\\\"New York Times\\\"'\\n                                }\\n                            },\\n                        },\\n                    },\\n                },\\n            ]\\n        }\\n    },\\n}\\n\\nclient.post(endpoint, json=body).json()\";\n",
       "                var nbb_formatted_code = \"endpoint = \\\"/siren/company/_search\\\"\\n\\n# Copmanies located in MD that have been reported on by NYT\\nbody = {\\n    \\\"size\\\": 1,\\n    \\\"query\\\": {\\n        \\\"bool\\\": {\\n            \\\"must\\\": [\\n                {\\\"query_string\\\": {\\\"query\\\": \\\"statecode:MD\\\"}},\\n                {\\n                    \\\"join\\\": {\\n                        \\\"indices\\\": [\\\"article\\\"],\\n                        \\\"on\\\": [\\\"id\\\", \\\"companies\\\"],\\n                        \\\"request\\\": {\\n                            \\\"query\\\": {\\n                                \\\"query_string\\\": {\\n                                    \\\"query\\\": 'article.source:\\\"New York Times\\\"'\\n                                }\\n                            },\\n                        },\\n                    },\\n                },\\n            ]\\n        }\\n    },\\n}\\n\\nclient.post(endpoint, json=body).json()\";\n",
       "                var nbb_cells = Jupyter.notebook.get_cells();\n",
       "                for (var i = 0; i < nbb_cells.length; ++i) {\n",
       "                    if (nbb_cells[i].input_prompt_number == nbb_cell_id) {\n",
       "                        if (nbb_cells[i].get_text() == nbb_unformatted_code) {\n",
       "                             nbb_cells[i].set_text(nbb_formatted_code);\n",
       "                        }\n",
       "                        break;\n",
       "                    }\n",
       "                }\n",
       "            }, 500);\n",
       "            "
      ],
      "text/plain": [
       "<IPython.core.display.Javascript object>"
      ]
     },
     "metadata": {},
     "output_type": "display_data"
    }
   ],
   "source": [
    "endpoint = \"/siren/company/_search\"\n",
    "\n",
    "# Copmanies located in MD that have been reported on by NYT\n",
    "body = {\n",
    "    \"size\": 1,\n",
    "    \"query\": {\n",
    "        \"bool\": {\n",
    "            \"must\": [\n",
    "                {\"query_string\": {\"query\": \"statecode:MD\"}},\n",
    "                {\n",
    "                    \"join\": {\n",
    "                        \"indices\": [\"article\"],\n",
    "                        \"on\": [\"id\", \"companies\"],\n",
    "                        \"request\": {\n",
    "                            \"query\": {\n",
    "                                \"query_string\": {\n",
    "                                    \"query\": 'article.source:\"New York Times\"'\n",
    "                                }\n",
    "                            },\n",
    "                        },\n",
    "                    },\n",
    "                },\n",
    "            ]\n",
    "        }\n",
    "    },\n",
    "}\n",
    "\n",
    "client.post(endpoint, json=body).json()"
   ]
  },
  {
   "cell_type": "code",
   "execution_count": null,
   "id": "3e35c41c",
   "metadata": {},
   "outputs": [],
   "source": []
  }
 ],
 "metadata": {
  "kernelspec": {
   "display_name": "Python 3 (ipykernel)",
   "language": "python",
   "name": "python3"
  },
  "language_info": {
   "codemirror_mode": {
    "name": "ipython",
    "version": 3
   },
   "file_extension": ".py",
   "mimetype": "text/x-python",
   "name": "python",
   "nbconvert_exporter": "python",
   "pygments_lexer": "ipython3",
   "version": "3.9.5"
  },
  "toc": {
   "base_numbering": 1,
   "nav_menu": {},
   "number_sections": true,
   "sideBar": true,
   "skip_h1_title": false,
   "title_cell": "Table of Contents",
   "title_sidebar": "Contents",
   "toc_cell": false,
   "toc_position": {
    "height": "calc(100% - 180px)",
    "left": "10px",
    "top": "150px",
    "width": "345.625px"
   },
   "toc_section_display": true,
   "toc_window_display": true
  }
 },
 "nbformat": 4,
 "nbformat_minor": 5
}
