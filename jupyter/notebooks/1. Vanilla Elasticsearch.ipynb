{
 "cells": [
  {
   "cell_type": "markdown",
   "id": "672cabcc",
   "metadata": {},
   "source": [
    "### Overview\n",
    "\n",
    "This Notebook uses vanilla [elasticsearch.py](https://github.com/elastic/elasticsearch-py) and [elasticsearch-dsl.py](https://github.com/elastic/elasticsearch-dsl-py) to interact with Siren, just to prove that the default Elasticsearch endpoints are unchanged.\n",
    "\n",
    "You can query, aggregate, inspect indices, and write data to Siren just as if it were a normal Elasticsearch cluster."
   ]
  },
  {
   "cell_type": "markdown",
   "id": "a2546b9b",
   "metadata": {},
   "source": [
    "#### Notebook setup"
   ]
  },
  {
   "cell_type": "code",
   "execution_count": 1,
   "id": "91692e88",
   "metadata": {
    "ExecuteTime": {
     "end_time": "2021-07-12T14:46:45.114458Z",
     "start_time": "2021-07-12T14:46:45.002159Z"
    }
   },
   "outputs": [
    {
     "data": {
      "application/javascript": [
       "\n",
       "            setTimeout(function() {\n",
       "                var nbb_cell_id = 1;\n",
       "                var nbb_unformatted_code = \"%load_ext nb_black\";\n",
       "                var nbb_formatted_code = \"%load_ext nb_black\";\n",
       "                var nbb_cells = Jupyter.notebook.get_cells();\n",
       "                for (var i = 0; i < nbb_cells.length; ++i) {\n",
       "                    if (nbb_cells[i].input_prompt_number == nbb_cell_id) {\n",
       "                        if (nbb_cells[i].get_text() == nbb_unformatted_code) {\n",
       "                             nbb_cells[i].set_text(nbb_formatted_code);\n",
       "                        }\n",
       "                        break;\n",
       "                    }\n",
       "                }\n",
       "            }, 500);\n",
       "            "
      ],
      "text/plain": [
       "<IPython.core.display.Javascript object>"
      ]
     },
     "metadata": {},
     "output_type": "display_data"
    }
   ],
   "source": [
    "%load_ext nb_black"
   ]
  },
  {
   "cell_type": "code",
   "execution_count": 2,
   "id": "d219c2f6",
   "metadata": {
    "ExecuteTime": {
     "end_time": "2021-07-12T14:46:45.553230Z",
     "start_time": "2021-07-12T14:46:45.117709Z"
    }
   },
   "outputs": [
    {
     "data": {
      "application/javascript": [
       "\n",
       "            setTimeout(function() {\n",
       "                var nbb_cell_id = 2;\n",
       "                var nbb_unformatted_code = \"import warnings\\n\\n# Stop the flood of insecure request warnings\\nwarnings.filterwarnings(\\\"ignore\\\")\";\n",
       "                var nbb_formatted_code = \"import warnings\\n\\n# Stop the flood of insecure request warnings\\nwarnings.filterwarnings(\\\"ignore\\\")\";\n",
       "                var nbb_cells = Jupyter.notebook.get_cells();\n",
       "                for (var i = 0; i < nbb_cells.length; ++i) {\n",
       "                    if (nbb_cells[i].input_prompt_number == nbb_cell_id) {\n",
       "                        if (nbb_cells[i].get_text() == nbb_unformatted_code) {\n",
       "                             nbb_cells[i].set_text(nbb_formatted_code);\n",
       "                        }\n",
       "                        break;\n",
       "                    }\n",
       "                }\n",
       "            }, 500);\n",
       "            "
      ],
      "text/plain": [
       "<IPython.core.display.Javascript object>"
      ]
     },
     "metadata": {},
     "output_type": "display_data"
    }
   ],
   "source": [
    "import warnings\n",
    "\n",
    "# Stop the flood of insecure request warnings\n",
    "warnings.filterwarnings(\"ignore\")"
   ]
  },
  {
   "cell_type": "code",
   "execution_count": 3,
   "id": "dad18086",
   "metadata": {
    "ExecuteTime": {
     "end_time": "2021-07-12T14:46:45.823280Z",
     "start_time": "2021-07-12T14:46:45.555886Z"
    }
   },
   "outputs": [
    {
     "data": {
      "application/javascript": [
       "\n",
       "            setTimeout(function() {\n",
       "                var nbb_cell_id = 3;\n",
       "                var nbb_unformatted_code = \"from tqdm.auto import tqdm\";\n",
       "                var nbb_formatted_code = \"from tqdm.auto import tqdm\";\n",
       "                var nbb_cells = Jupyter.notebook.get_cells();\n",
       "                for (var i = 0; i < nbb_cells.length; ++i) {\n",
       "                    if (nbb_cells[i].input_prompt_number == nbb_cell_id) {\n",
       "                        if (nbb_cells[i].get_text() == nbb_unformatted_code) {\n",
       "                             nbb_cells[i].set_text(nbb_formatted_code);\n",
       "                        }\n",
       "                        break;\n",
       "                    }\n",
       "                }\n",
       "            }, 500);\n",
       "            "
      ],
      "text/plain": [
       "<IPython.core.display.Javascript object>"
      ]
     },
     "metadata": {},
     "output_type": "display_data"
    }
   ],
   "source": [
    "from tqdm.auto import tqdm"
   ]
  },
  {
   "cell_type": "markdown",
   "id": "ec875658",
   "metadata": {},
   "source": [
    "### Connect"
   ]
  },
  {
   "cell_type": "code",
   "execution_count": 4,
   "id": "14b8f212",
   "metadata": {
    "ExecuteTime": {
     "end_time": "2021-07-12T14:46:46.348814Z",
     "start_time": "2021-07-12T14:46:45.826468Z"
    }
   },
   "outputs": [
    {
     "data": {
      "text/plain": [
       "<Elasticsearch([{'host': 'siren', 'port': 9220, 'use_ssl': True}])>"
      ]
     },
     "execution_count": 4,
     "metadata": {},
     "output_type": "execute_result"
    },
    {
     "data": {
      "application/javascript": [
       "\n",
       "            setTimeout(function() {\n",
       "                var nbb_cell_id = 4;\n",
       "                var nbb_unformatted_code = \"import elasticsearch as es\\nimport elasticsearch_dsl as dsl\\n\\nclient = es.Elasticsearch(\\n    \\\"https://siren:9220\\\",\\n    http_auth=(\\\"sirenadmin\\\", \\\"password\\\"),\\n    verify_certs=False,\\n)\\nclient\";\n",
       "                var nbb_formatted_code = \"import elasticsearch as es\\nimport elasticsearch_dsl as dsl\\n\\nclient = es.Elasticsearch(\\n    \\\"https://siren:9220\\\",\\n    http_auth=(\\\"sirenadmin\\\", \\\"password\\\"),\\n    verify_certs=False,\\n)\\nclient\";\n",
       "                var nbb_cells = Jupyter.notebook.get_cells();\n",
       "                for (var i = 0; i < nbb_cells.length; ++i) {\n",
       "                    if (nbb_cells[i].input_prompt_number == nbb_cell_id) {\n",
       "                        if (nbb_cells[i].get_text() == nbb_unformatted_code) {\n",
       "                             nbb_cells[i].set_text(nbb_formatted_code);\n",
       "                        }\n",
       "                        break;\n",
       "                    }\n",
       "                }\n",
       "            }, 500);\n",
       "            "
      ],
      "text/plain": [
       "<IPython.core.display.Javascript object>"
      ]
     },
     "metadata": {},
     "output_type": "display_data"
    }
   ],
   "source": [
    "import elasticsearch as es\n",
    "import elasticsearch_dsl as dsl\n",
    "\n",
    "client = es.Elasticsearch(\n",
    "    \"https://siren:9220\",\n",
    "    http_auth=(\"sirenadmin\", \"password\"),\n",
    "    verify_certs=False,\n",
    ")\n",
    "client"
   ]
  },
  {
   "cell_type": "code",
   "execution_count": 5,
   "id": "e9e0b20b",
   "metadata": {
    "ExecuteTime": {
     "end_time": "2021-07-12T14:46:46.397743Z",
     "start_time": "2021-07-12T14:46:46.351862Z"
    }
   },
   "outputs": [
    {
     "data": {
      "text/plain": [
       "True"
      ]
     },
     "execution_count": 5,
     "metadata": {},
     "output_type": "execute_result"
    },
    {
     "data": {
      "application/javascript": [
       "\n",
       "            setTimeout(function() {\n",
       "                var nbb_cell_id = 5;\n",
       "                var nbb_unformatted_code = \"client.ping()\";\n",
       "                var nbb_formatted_code = \"client.ping()\";\n",
       "                var nbb_cells = Jupyter.notebook.get_cells();\n",
       "                for (var i = 0; i < nbb_cells.length; ++i) {\n",
       "                    if (nbb_cells[i].input_prompt_number == nbb_cell_id) {\n",
       "                        if (nbb_cells[i].get_text() == nbb_unformatted_code) {\n",
       "                             nbb_cells[i].set_text(nbb_formatted_code);\n",
       "                        }\n",
       "                        break;\n",
       "                    }\n",
       "                }\n",
       "            }, 500);\n",
       "            "
      ],
      "text/plain": [
       "<IPython.core.display.Javascript object>"
      ]
     },
     "metadata": {},
     "output_type": "display_data"
    }
   ],
   "source": [
    "client.ping()"
   ]
  },
  {
   "cell_type": "code",
   "execution_count": 6,
   "id": "ec9db12b",
   "metadata": {
    "ExecuteTime": {
     "end_time": "2021-07-12T14:46:46.680147Z",
     "start_time": "2021-07-12T14:46:46.401517Z"
    }
   },
   "outputs": [
    {
     "data": {
      "text/plain": [
       "{'name': 'siren-node',\n",
       " 'cluster_name': 'siren-distribution',\n",
       " 'cluster_uuid': 'io6gD5WORPaz1_IqddTtog',\n",
       " 'version': {'number': '7.10.2',\n",
       "  'build_flavor': 'oss',\n",
       "  'build_type': 'tar',\n",
       "  'build_hash': '747e1cc71def077253878a59143c1f785afa92b9',\n",
       "  'build_date': '2021-01-13T00:42:12.435326Z',\n",
       "  'build_snapshot': False,\n",
       "  'lucene_version': '8.7.0',\n",
       "  'minimum_wire_compatibility_version': '6.8.0',\n",
       "  'minimum_index_compatibility_version': '6.0.0-beta1'},\n",
       " 'tagline': 'You Know, for Search'}"
      ]
     },
     "execution_count": 6,
     "metadata": {},
     "output_type": "execute_result"
    },
    {
     "data": {
      "application/javascript": [
       "\n",
       "            setTimeout(function() {\n",
       "                var nbb_cell_id = 6;\n",
       "                var nbb_unformatted_code = \"client.info()\";\n",
       "                var nbb_formatted_code = \"client.info()\";\n",
       "                var nbb_cells = Jupyter.notebook.get_cells();\n",
       "                for (var i = 0; i < nbb_cells.length; ++i) {\n",
       "                    if (nbb_cells[i].input_prompt_number == nbb_cell_id) {\n",
       "                        if (nbb_cells[i].get_text() == nbb_unformatted_code) {\n",
       "                             nbb_cells[i].set_text(nbb_formatted_code);\n",
       "                        }\n",
       "                        break;\n",
       "                    }\n",
       "                }\n",
       "            }, 500);\n",
       "            "
      ],
      "text/plain": [
       "<IPython.core.display.Javascript object>"
      ]
     },
     "metadata": {},
     "output_type": "display_data"
    }
   ],
   "source": [
    "client.info()"
   ]
  },
  {
   "cell_type": "code",
   "execution_count": 7,
   "id": "28b3a353",
   "metadata": {
    "ExecuteTime": {
     "end_time": "2021-07-12T14:46:46.888890Z",
     "start_time": "2021-07-12T14:46:46.682618Z"
    }
   },
   "outputs": [
    {
     "data": {
      "text/plain": [
       "dict_keys(['investment_revised', 'company', '.map__shape__world-countries_us_us-states_vermont_rivers_streams-river-geojson', 'searchguard', 'company_revised', '.sirenaccess', '.map__shape__world-countries_us_us-states_us-states-geojson', 'investment', 'investor', 'article_revised', '.map__shape__world-countries_ireland_counties_ireland-counties-geojson', '.map__shape__world-countries_us_us-states_texas_city-polygons_texascitypolygons-geojson', '.map__point__world-countries_us_us-states_california_steelhead-abundance_steelhead-abundance--point-features-geojson', '.map__shape__world-countries_worldcountries-geojson', 'investor_revised', '.siren', '.map__point__world-countries_us_us-states_california_chinook-abundance_chinook-abundance--point-features-geojson', '.map__shape__world-countries_ireland_rail-network_irish-rail-network-geojson', 'article', '.map__shape__world-lakes_ne-10m-lakes-geojson'])"
      ]
     },
     "execution_count": 7,
     "metadata": {},
     "output_type": "execute_result"
    },
    {
     "data": {
      "application/javascript": [
       "\n",
       "            setTimeout(function() {\n",
       "                var nbb_cell_id = 7;\n",
       "                var nbb_unformatted_code = \"client.indices.get_mapping().keys()\";\n",
       "                var nbb_formatted_code = \"client.indices.get_mapping().keys()\";\n",
       "                var nbb_cells = Jupyter.notebook.get_cells();\n",
       "                for (var i = 0; i < nbb_cells.length; ++i) {\n",
       "                    if (nbb_cells[i].input_prompt_number == nbb_cell_id) {\n",
       "                        if (nbb_cells[i].get_text() == nbb_unformatted_code) {\n",
       "                             nbb_cells[i].set_text(nbb_formatted_code);\n",
       "                        }\n",
       "                        break;\n",
       "                    }\n",
       "                }\n",
       "            }, 500);\n",
       "            "
      ],
      "text/plain": [
       "<IPython.core.display.Javascript object>"
      ]
     },
     "metadata": {},
     "output_type": "display_data"
    }
   ],
   "source": [
    "client.indices.get_mapping().keys()"
   ]
  },
  {
   "cell_type": "code",
   "execution_count": 8,
   "id": "972f958f",
   "metadata": {
    "ExecuteTime": {
     "end_time": "2021-07-12T14:46:47.315007Z",
     "start_time": "2021-07-12T14:46:46.891255Z"
    }
   },
   "outputs": [
    {
     "data": {
      "text/plain": [
       "['article',\n",
       " 'article_revised',\n",
       " 'company',\n",
       " 'company_revised',\n",
       " 'investment',\n",
       " 'investment_revised',\n",
       " 'investor',\n",
       " 'investor_revised',\n",
       " 'searchguard']"
      ]
     },
     "execution_count": 8,
     "metadata": {},
     "output_type": "execute_result"
    },
    {
     "data": {
      "application/javascript": [
       "\n",
       "            setTimeout(function() {\n",
       "                var nbb_cell_id = 8;\n",
       "                var nbb_unformatted_code = \"indices = sorted([c for c in client.indices.get_mapping() if not c.startswith(\\\".\\\")])\\nindices\";\n",
       "                var nbb_formatted_code = \"indices = sorted([c for c in client.indices.get_mapping() if not c.startswith(\\\".\\\")])\\nindices\";\n",
       "                var nbb_cells = Jupyter.notebook.get_cells();\n",
       "                for (var i = 0; i < nbb_cells.length; ++i) {\n",
       "                    if (nbb_cells[i].input_prompt_number == nbb_cell_id) {\n",
       "                        if (nbb_cells[i].get_text() == nbb_unformatted_code) {\n",
       "                             nbb_cells[i].set_text(nbb_formatted_code);\n",
       "                        }\n",
       "                        break;\n",
       "                    }\n",
       "                }\n",
       "            }, 500);\n",
       "            "
      ],
      "text/plain": [
       "<IPython.core.display.Javascript object>"
      ]
     },
     "metadata": {},
     "output_type": "display_data"
    }
   ],
   "source": [
    "indices = sorted([c for c in client.indices.get_mapping() if not c.startswith(\".\")])\n",
    "indices"
   ]
  },
  {
   "cell_type": "markdown",
   "id": "b6cfc712",
   "metadata": {},
   "source": [
    "### Query"
   ]
  },
  {
   "cell_type": "code",
   "execution_count": 9,
   "id": "7492e3d1",
   "metadata": {
    "ExecuteTime": {
     "end_time": "2021-07-12T14:46:47.863515Z",
     "start_time": "2021-07-12T14:46:47.318603Z"
    }
   },
   "outputs": [
    {
     "data": {
      "application/vnd.jupyter.widget-view+json": {
       "model_id": "709cb83df49d4738a9f7c6ada1392497",
       "version_major": 2,
       "version_minor": 0
      },
      "text/plain": [
       "  0%|          | 0/9 [00:00<?, ?it/s]"
      ]
     },
     "metadata": {},
     "output_type": "display_data"
    },
    {
     "name": "stdout",
     "output_type": "stream",
     "text": [
      "article {'count': 646903, '_shards': {'total': 1, 'successful': 1, 'skipped': 0, 'failed': 0}}\n",
      "article_revised {'count': 0, '_shards': {'total': 1, 'successful': 1, 'skipped': 0, 'failed': 0}}\n",
      "company {'count': 160106, '_shards': {'total': 1, 'successful': 1, 'skipped': 0, 'failed': 0}}\n",
      "company_revised {'count': 0, '_shards': {'total': 1, 'successful': 1, 'skipped': 0, 'failed': 0}}\n",
      "investment {'count': 41623, '_shards': {'total': 1, 'successful': 1, 'skipped': 0, 'failed': 0}}\n",
      "investment_revised {'count': 0, '_shards': {'total': 1, 'successful': 1, 'skipped': 0, 'failed': 0}}\n",
      "investor {'count': 14959, '_shards': {'total': 1, 'successful': 1, 'skipped': 0, 'failed': 0}}\n",
      "investor_revised {'count': 0, '_shards': {'total': 1, 'successful': 1, 'skipped': 0, 'failed': 0}}\n",
      "searchguard {'count': 0, '_shards': {'total': 1, 'successful': 1, 'skipped': 0, 'failed': 0}}\n"
     ]
    },
    {
     "data": {
      "application/javascript": [
       "\n",
       "            setTimeout(function() {\n",
       "                var nbb_cell_id = 9;\n",
       "                var nbb_unformatted_code = \"for idx in tqdm(indices):\\n    print(idx, client.count(index=idx))\";\n",
       "                var nbb_formatted_code = \"for idx in tqdm(indices):\\n    print(idx, client.count(index=idx))\";\n",
       "                var nbb_cells = Jupyter.notebook.get_cells();\n",
       "                for (var i = 0; i < nbb_cells.length; ++i) {\n",
       "                    if (nbb_cells[i].input_prompt_number == nbb_cell_id) {\n",
       "                        if (nbb_cells[i].get_text() == nbb_unformatted_code) {\n",
       "                             nbb_cells[i].set_text(nbb_formatted_code);\n",
       "                        }\n",
       "                        break;\n",
       "                    }\n",
       "                }\n",
       "            }, 500);\n",
       "            "
      ],
      "text/plain": [
       "<IPython.core.display.Javascript object>"
      ]
     },
     "metadata": {},
     "output_type": "display_data"
    }
   ],
   "source": [
    "for idx in tqdm(indices):\n",
    "    print(idx, client.count(index=idx))"
   ]
  },
  {
   "cell_type": "code",
   "execution_count": 10,
   "id": "2c4df3e8",
   "metadata": {
    "ExecuteTime": {
     "end_time": "2021-07-12T14:46:48.546462Z",
     "start_time": "2021-07-12T14:46:47.868287Z"
    }
   },
   "outputs": [
    {
     "data": {
      "text/plain": [
       "{'took': 4,\n",
       " 'timed_out': False,\n",
       " '_shards': {'total': 1, 'successful': 1, 'skipped': 0, 'failed': 0},\n",
       " 'hits': {'total': {'value': 10000, 'relation': 'gte'},\n",
       "  'max_score': 1.0,\n",
       "  'hits': [{'_index': 'article',\n",
       "    '_type': 'Article',\n",
       "    '_id': 'cSOr2XcBu9D2HElYwL6P',\n",
       "    '_score': 1.0,\n",
       "    '_source': {'snippet': '         Some AT&T Wireless customers have voted an emphatic no on a promotion for    American Idol    that popped up on their phones this week.         AT&T, a sponsor of the show, said it sent text messages to a    significant number    of its 75 million customers    ',\n",
       "     'image': '',\n",
       "     'pmonth': 1,\n",
       "     'siren': {'nlp': {'taxonomy_annotated': {'snippet': '         Some AT&T Wireless customers have voted an emphatic no on a promotion for    American Idol    that popped up on their phones this week.         AT&T, a sponsor of the show, said it sent text messages to a    significant number    of its 75 million customers    ',\n",
       "        'title': \"A Text Arrives.   Oh, It's Just an    Idol    Ad.\"},\n",
       "       'instances': {'snippet': {'entity/organization': [{'nerType': 'Organization',\n",
       "           'probability': 0.9800698121304312,\n",
       "           'start': 14,\n",
       "           'match': 'AT&T Wireless',\n",
       "           'end': 27,\n",
       "           'id': 'entity/organization:at&t wireless',\n",
       "           'type': 'entity/organization',\n",
       "           'fromfield': 'snippet'},\n",
       "          {'nerType': 'Organization',\n",
       "           'probability': 0.9708624164275932,\n",
       "           'start': 153,\n",
       "           'match': 'AT&T',\n",
       "           'end': 157,\n",
       "           'id': 'entity/organization:at&t',\n",
       "           'type': 'entity/organization',\n",
       "           'fromfield': 'snippet'}]}},\n",
       "       'ids': {'entity/organization': ['entity/organization:at&t wireless',\n",
       "         'entity/organization:at&t']},\n",
       "       'matches': {'entity/organization': ['AT&T Wireless', 'AT&T']}}},\n",
       "     'author': 'Matt Richtel',\n",
       "     'pdate': '2009-01-14 12:00:00',\n",
       "     'foundnlpref': 'false',\n",
       "     'source': 'New York Times',\n",
       "     'title': \"A Text Arrives.   Oh, It's Just an    Idol    Ad.\",\n",
       "     'url': 'http://www.nytimes.com/2009/01/14/technology/14idol.html?partner=rss&emc=rss',\n",
       "     'pyear': 2009,\n",
       "     'companies': ['company/american-idol'],\n",
       "     'nlpref': '',\n",
       "     'id': 'data/techmeme/article/1905FD1F',\n",
       "     'foundcbref': 'false'}}]}}"
      ]
     },
     "execution_count": 10,
     "metadata": {},
     "output_type": "execute_result"
    },
    {
     "data": {
      "application/javascript": [
       "\n",
       "            setTimeout(function() {\n",
       "                var nbb_cell_id = 10;\n",
       "                var nbb_unformatted_code = \"client.search(index=\\\"article\\\", size=1)\";\n",
       "                var nbb_formatted_code = \"client.search(index=\\\"article\\\", size=1)\";\n",
       "                var nbb_cells = Jupyter.notebook.get_cells();\n",
       "                for (var i = 0; i < nbb_cells.length; ++i) {\n",
       "                    if (nbb_cells[i].input_prompt_number == nbb_cell_id) {\n",
       "                        if (nbb_cells[i].get_text() == nbb_unformatted_code) {\n",
       "                             nbb_cells[i].set_text(nbb_formatted_code);\n",
       "                        }\n",
       "                        break;\n",
       "                    }\n",
       "                }\n",
       "            }, 500);\n",
       "            "
      ],
      "text/plain": [
       "<IPython.core.display.Javascript object>"
      ]
     },
     "metadata": {},
     "output_type": "display_data"
    }
   ],
   "source": [
    "client.search(index=\"article\", size=1)"
   ]
  },
  {
   "cell_type": "code",
   "execution_count": 11,
   "id": "1e33e172",
   "metadata": {
    "ExecuteTime": {
     "end_time": "2021-07-12T14:46:48.758437Z",
     "start_time": "2021-07-12T14:46:48.549292Z"
    }
   },
   "outputs": [
    {
     "data": {
      "text/plain": [
       "{'aggs': {'sources': {'terms': {'field': 'source'}}}}"
      ]
     },
     "execution_count": 11,
     "metadata": {},
     "output_type": "execute_result"
    },
    {
     "data": {
      "application/javascript": [
       "\n",
       "            setTimeout(function() {\n",
       "                var nbb_cell_id = 11;\n",
       "                var nbb_unformatted_code = \"s = dsl.Search()\\ns.aggs.bucket(name=\\\"sources\\\", agg_type=\\\"terms\\\", field=\\\"source\\\")\\nbody = s.to_dict()\\nbody\";\n",
       "                var nbb_formatted_code = \"s = dsl.Search()\\ns.aggs.bucket(name=\\\"sources\\\", agg_type=\\\"terms\\\", field=\\\"source\\\")\\nbody = s.to_dict()\\nbody\";\n",
       "                var nbb_cells = Jupyter.notebook.get_cells();\n",
       "                for (var i = 0; i < nbb_cells.length; ++i) {\n",
       "                    if (nbb_cells[i].input_prompt_number == nbb_cell_id) {\n",
       "                        if (nbb_cells[i].get_text() == nbb_unformatted_code) {\n",
       "                             nbb_cells[i].set_text(nbb_formatted_code);\n",
       "                        }\n",
       "                        break;\n",
       "                    }\n",
       "                }\n",
       "            }, 500);\n",
       "            "
      ],
      "text/plain": [
       "<IPython.core.display.Javascript object>"
      ]
     },
     "metadata": {},
     "output_type": "display_data"
    }
   ],
   "source": [
    "s = dsl.Search()\n",
    "s.aggs.bucket(name=\"sources\", agg_type=\"terms\", field=\"source\")\n",
    "body = s.to_dict()\n",
    "body"
   ]
  },
  {
   "cell_type": "code",
   "execution_count": 12,
   "id": "46d251a6",
   "metadata": {
    "ExecuteTime": {
     "end_time": "2021-07-12T14:46:49.345484Z",
     "start_time": "2021-07-12T14:46:48.760801Z"
    }
   },
   "outputs": [
    {
     "data": {
      "text/plain": [
       "{'took': 127,\n",
       " 'timed_out': False,\n",
       " '_shards': {'total': 1, 'successful': 1, 'skipped': 0, 'failed': 0},\n",
       " 'hits': {'total': {'value': 10000, 'relation': 'gte'},\n",
       "  'max_score': None,\n",
       "  'hits': []},\n",
       " 'aggregations': {'sources': {'doc_count_error_upper_bound': 0,\n",
       "   'sum_other_doc_count': 44668,\n",
       "   'buckets': [{'key': 'ZDNet', 'doc_count': 227993},\n",
       "    {'key': 'Gigaom', 'doc_count': 82080},\n",
       "    {'key': 'Mashable', 'doc_count': 55248},\n",
       "    {'key': 'TechCrunch', 'doc_count': 51075},\n",
       "    {'key': 'Thenextweb', 'doc_count': 50272},\n",
       "    {'key': 'VentureBeat', 'doc_count': 41186},\n",
       "    {'key': 'ReadWrite', 'doc_count': 27603},\n",
       "    {'key': 'The Verge', 'doc_count': 27297},\n",
       "    {'key': 'GamesBeat', 'doc_count': 21901},\n",
       "    {'key': 'Ars Technica', 'doc_count': 17580}]}}}"
      ]
     },
     "execution_count": 12,
     "metadata": {},
     "output_type": "execute_result"
    },
    {
     "data": {
      "application/javascript": [
       "\n",
       "            setTimeout(function() {\n",
       "                var nbb_cell_id = 12;\n",
       "                var nbb_unformatted_code = \"client.search(index=\\\"article\\\", body=body, size=0)\";\n",
       "                var nbb_formatted_code = \"client.search(index=\\\"article\\\", body=body, size=0)\";\n",
       "                var nbb_cells = Jupyter.notebook.get_cells();\n",
       "                for (var i = 0; i < nbb_cells.length; ++i) {\n",
       "                    if (nbb_cells[i].input_prompt_number == nbb_cell_id) {\n",
       "                        if (nbb_cells[i].get_text() == nbb_unformatted_code) {\n",
       "                             nbb_cells[i].set_text(nbb_formatted_code);\n",
       "                        }\n",
       "                        break;\n",
       "                    }\n",
       "                }\n",
       "            }, 500);\n",
       "            "
      ],
      "text/plain": [
       "<IPython.core.display.Javascript object>"
      ]
     },
     "metadata": {},
     "output_type": "display_data"
    }
   ],
   "source": [
    "client.search(index=\"article\", body=body, size=0)"
   ]
  },
  {
   "cell_type": "code",
   "execution_count": 13,
   "id": "5cc0a1f7",
   "metadata": {
    "ExecuteTime": {
     "end_time": "2021-07-12T14:46:49.613664Z",
     "start_time": "2021-07-12T14:46:49.348408Z"
    }
   },
   "outputs": [
    {
     "data": {
      "text/plain": [
       "{'took': 28,\n",
       " 'timed_out': False,\n",
       " '_shards': {'total': 1, 'successful': 1, 'skipped': 0, 'failed': 0},\n",
       " 'hits': {'total': {'value': 11, 'relation': 'eq'},\n",
       "  'max_score': 12.269118,\n",
       "  'hits': [{'_index': 'article',\n",
       "    '_type': 'Article',\n",
       "    '_id': 'aCSs2XcBu9D2HElYiVza',\n",
       "    '_score': 12.269118,\n",
       "    '_source': {'snippet': 'So far, I have resisted the siren call of Twitter. But I love Twitter search -- especially when a tweet-happy Microsoft group is posting up a storm.',\n",
       "     'image': '',\n",
       "     'pmonth': 9,\n",
       "     'siren': {'nlp': {'taxonomy_annotated': {'snippet': 'So far, I have resisted the siren call of Twitter. But I love Twitter search -- especially when a tweet-happy Microsoft group is posting up a storm.',\n",
       "        'title': \"The 10 best tweets (so far) from Microsoft's MVP Summit\"},\n",
       "       'instances': {'snippet': {'entity/organization': [{'nerType': 'Organization',\n",
       "           'probability': 0.7769690556821683,\n",
       "           'start': 110,\n",
       "           'match': 'Microsoft',\n",
       "           'end': 119,\n",
       "           'id': 'entity/organization:microsoft',\n",
       "           'type': 'entity/organization',\n",
       "           'fromfield': 'snippet'}]},\n",
       "        'title': {'entity/location': [{'nerType': 'Location',\n",
       "           'probability': 0.7162412611722235,\n",
       "           'start': 49,\n",
       "           'match': 'Summit',\n",
       "           'end': 55,\n",
       "           'id': 'entity/location:summit',\n",
       "           'type': 'entity/location',\n",
       "           'fromfield': 'title'}],\n",
       "         'entity/organization': [{'nerType': 'Organization',\n",
       "           'probability': 0.765754767648397,\n",
       "           'start': 45,\n",
       "           'match': 'MVP Summit',\n",
       "           'end': 55,\n",
       "           'id': 'entity/organization:mvp summit',\n",
       "           'type': 'entity/organization',\n",
       "           'fromfield': 'title'},\n",
       "          {'nerType': 'Organization',\n",
       "           'probability': 0.7892631929994546,\n",
       "           'start': 33,\n",
       "           'match': 'Microsoft',\n",
       "           'end': 42,\n",
       "           'id': 'entity/organization:microsoft',\n",
       "           'type': 'entity/organization',\n",
       "           'fromfield': 'title'}]}},\n",
       "       'ids': {'entity/location': ['entity/location:summit'],\n",
       "        'entity/organization': ['entity/organization:microsoft',\n",
       "         'entity/organization:mvp summit']},\n",
       "       'matches': {'entity/location': ['Summit'],\n",
       "        'entity/organization': ['MVP Summit', 'Microsoft']}}},\n",
       "     'author': '',\n",
       "     'pdate': '2013-09-09 00:00:00',\n",
       "     'foundnlpref': 'true',\n",
       "     'source': 'ZDNet',\n",
       "     'title': \"The 10 best tweets (so far) from Microsoft's MVP Summit\",\n",
       "     'url': 'http://www.zdnet.com/blog/microsoft/the-10-best-tweets-so-far-from-microsofts-mvp-summit/2209',\n",
       "     'pyear': 2013,\n",
       "     'companies': ['company/microsoft', 'company/mvp', 'company/twitter'],\n",
       "     'nlpref': 'Win7 Media Center',\n",
       "     'id': 'data/techmeme/article/28DCD8F1',\n",
       "     'foundcbref': 'false'}},\n",
       "   {'_index': 'article',\n",
       "    '_type': 'Article',\n",
       "    '_id': '3iau2XcBu9D2HElY2is2',\n",
       "    '_score': 11.719737,\n",
       "    '_source': {'snippet': 'Companies and brands are always getting better at find ways to tempt people out of their money, and sometimes the siren call of those shiny new things are just too much to resist.',\n",
       "     'image': '',\n",
       "     'pmonth': 6,\n",
       "     'siren': {'nlp': {'taxonomy_annotated': {'snippet': 'Companies and brands are always getting better at find ways to tempt people out of their money, and sometimes the siren call of those shiny new things are just too much to resist.',\n",
       "        'title': 'ImpulseSave Wants To Make Saving Money A Habit, Opens Doors To The  Public'},\n",
       "       'instances': {},\n",
       "       'ids': {},\n",
       "       'matches': {}}},\n",
       "     'author': 'Chris Velazco',\n",
       "     'pdate': '2012-06-19 12:00:00',\n",
       "     'foundnlpref': 'true',\n",
       "     'source': 'TechCrunch',\n",
       "     'title': 'ImpulseSave Wants To Make Saving Money A Habit, Opens Doors To The  Public',\n",
       "     'url': 'http://techcrunch.com/2012/06/19/impulsesave-wants-to-make-saving-money-a-habit-opens-doors-to-the-public/',\n",
       "     'pyear': 2012,\n",
       "     'companies': None,\n",
       "     'nlpref': 'Leader Bank',\n",
       "     'id': 'data/techmeme/article/57DB1A70',\n",
       "     'foundcbref': 'true'}},\n",
       "   {'_index': 'article',\n",
       "    '_type': 'Article',\n",
       "    '_id': 'USix2XcBu9D2HElYfXTw',\n",
       "    '_score': 11.217448,\n",
       "    '_source': {'snippet': \"Saturday night we had dinner with an old friend from the trade press. He's resisted the siren call of the blogosphere longer than most, and pretends to cast doubt on its significance with the best of them.\",\n",
       "     'image': '',\n",
       "     'pmonth': 9,\n",
       "     'siren': {'nlp': {'taxonomy_annotated': {'snippet': \"Saturday night we had dinner with an old friend from the trade press. He's resisted the siren call of the blogosphere longer than most, and pretends to cast doubt on its significance with the best of them.\",\n",
       "        'title': 'Cogosphere: Information will search for you'},\n",
       "       'instances': {},\n",
       "       'ids': {},\n",
       "       'matches': {}}},\n",
       "     'author': '',\n",
       "     'pdate': '2013-09-11 00:00:00',\n",
       "     'foundnlpref': 'true',\n",
       "     'source': 'ZDNet',\n",
       "     'title': 'Cogosphere: Information will search for you',\n",
       "     'url': 'http://www.zdnet.com/blog/gillmor/cogosphere-information-will-search-for-you/122',\n",
       "     'pyear': 2013,\n",
       "     'companies': ['company/cast'],\n",
       "     'nlpref': 'Microsoft Corporation',\n",
       "     'id': 'data/techmeme/article/934D8D42',\n",
       "     'foundcbref': 'true'}},\n",
       "   {'_index': 'article',\n",
       "    '_type': 'Article',\n",
       "    '_id': 'Nyqz2XcBu9D2HElY1XhT',\n",
       "    '_score': 11.05945,\n",
       "    '_source': {'snippet': \"The siren call of 'Big Data' (whatever the heck that means) has got a lot of people excited. Last year, SAP fanfared Business Warehouse on HANA as a way of massively compressing the run time for complex reporting.\",\n",
       "     'image': '',\n",
       "     'pmonth': 9,\n",
       "     'siren': {'nlp': {'taxonomy_annotated': {'snippet': \"The siren call of 'Big Data' (whatever the heck that means) has got a lot of people excited. Last year, SAP fanfared Business Warehouse on HANA as a way of massively compressing the run time for complex reporting.\",\n",
       "        'title': 'BI in 2013, the year the big boys contract terminal dis-ease?'},\n",
       "       'instances': {'snippet': {'entity/organization': [{'nerType': 'Organization',\n",
       "           'probability': 0.7993938832938519,\n",
       "           'start': 117,\n",
       "           'match': 'Business Warehouse',\n",
       "           'end': 135,\n",
       "           'id': 'entity/organization:business warehouse',\n",
       "           'type': 'entity/organization',\n",
       "           'fromfield': 'snippet'},\n",
       "          {'nerType': 'Organization',\n",
       "           'probability': 0.6578649661208628,\n",
       "           'start': 104,\n",
       "           'match': 'SAP',\n",
       "           'end': 107,\n",
       "           'id': 'entity/organization:sap',\n",
       "           'type': 'entity/organization',\n",
       "           'fromfield': 'snippet'}]}},\n",
       "       'ids': {'entity/organization': ['entity/organization:business warehouse',\n",
       "         'entity/organization:sap']},\n",
       "       'matches': {'entity/organization': ['SAP', 'Business Warehouse']}}},\n",
       "     'author': '',\n",
       "     'pdate': '2013-09-06 00:00:00',\n",
       "     'foundnlpref': 'true',\n",
       "     'source': 'ZDNet',\n",
       "     'title': 'BI in 2013, the year the big boys contract terminal dis-ease?',\n",
       "     'url': 'http://www.zdnet.com/bi-in-2013-the-year-the-big-boys-contract-terminal-dis-ease-7000009961/',\n",
       "     'pyear': 2013,\n",
       "     'companies': ['company/sap'],\n",
       "     'nlpref': 'SAS Institute',\n",
       "     'id': 'data/techmeme/article/C78503F3',\n",
       "     'foundcbref': 'true'}},\n",
       "   {'_index': 'article',\n",
       "    '_type': 'Article',\n",
       "    '_id': 'Jyu12XcBu9D2HElYnK7F',\n",
       "    '_score': 10.331835,\n",
       "    '_source': {'snippet': \"         The Web portal's employees open up (a little) about the company's problems.         Sirens blared outside Yahoo!'s campus Tuesday, a day after chief executive Jerry Yang said he will step down as the Web portal continues to struggle to gain a grip    \",\n",
       "     'image': '',\n",
       "     'pmonth': 11,\n",
       "     'siren': {'nlp': {'taxonomy_annotated': {'snippet': \"         The Web portal's employees open up (a little) about the company's problems.         Sirens blared outside Yahoo!'s campus Tuesday, a day after chief executive Jerry Yang said he will step down as the Web portal continues to struggle to gain a grip    \",\n",
       "        'title': \"Yahoo!'s Five Biggest Mistakes\"},\n",
       "       'instances': {'snippet': {'entity/person': [{'nerType': 'Person',\n",
       "           'probability': 0.9202702642117975,\n",
       "           'start': 168,\n",
       "           'match': 'Jerry Yang',\n",
       "           'end': 178,\n",
       "           'id': 'entity/person:jerry yang',\n",
       "           'type': 'entity/person',\n",
       "           'fromfield': 'snippet'}]}},\n",
       "       'ids': {'entity/person': ['entity/person:jerry yang']},\n",
       "       'matches': {'entity/person': ['Jerry Yang']}}},\n",
       "     'author': 'Brian Caulfield',\n",
       "     'pdate': '2008-11-18 12:00:00',\n",
       "     'foundnlpref': 'true',\n",
       "     'source': 'Forbes',\n",
       "     'title': \"Yahoo!'s Five Biggest Mistakes\",\n",
       "     'url': 'http://www.forbes.com/2008/11/18/yahoo-mistakes-employees-tech-enter-cx_bc_1118yahoomistakes.html',\n",
       "     'pyear': 2008,\n",
       "     'companies': None,\n",
       "     'nlpref': 'Warner Bros.',\n",
       "     'id': 'data/techmeme/article/E700530E',\n",
       "     'foundcbref': 'true'}}]}}"
      ]
     },
     "execution_count": 13,
     "metadata": {},
     "output_type": "execute_result"
    },
    {
     "data": {
      "application/javascript": [
       "\n",
       "            setTimeout(function() {\n",
       "                var nbb_cell_id = 13;\n",
       "                var nbb_unformatted_code = \"# Show lucene query with limit\\nclient.search(index=\\\"article\\\", size=5, q=\\\"snippet:siren\\\")\";\n",
       "                var nbb_formatted_code = \"# Show lucene query with limit\\nclient.search(index=\\\"article\\\", size=5, q=\\\"snippet:siren\\\")\";\n",
       "                var nbb_cells = Jupyter.notebook.get_cells();\n",
       "                for (var i = 0; i < nbb_cells.length; ++i) {\n",
       "                    if (nbb_cells[i].input_prompt_number == nbb_cell_id) {\n",
       "                        if (nbb_cells[i].get_text() == nbb_unformatted_code) {\n",
       "                             nbb_cells[i].set_text(nbb_formatted_code);\n",
       "                        }\n",
       "                        break;\n",
       "                    }\n",
       "                }\n",
       "            }, 500);\n",
       "            "
      ],
      "text/plain": [
       "<IPython.core.display.Javascript object>"
      ]
     },
     "metadata": {},
     "output_type": "display_data"
    }
   ],
   "source": [
    "# Show lucene query with limit\n",
    "client.search(index=\"article\", size=5, q=\"snippet:siren\")"
   ]
  },
  {
   "cell_type": "code",
   "execution_count": 14,
   "id": "f021ef80",
   "metadata": {
    "ExecuteTime": {
     "end_time": "2021-07-12T14:46:49.739062Z",
     "start_time": "2021-07-12T14:46:49.618365Z"
    }
   },
   "outputs": [
    {
     "data": {
      "text/plain": [
       "{'took': 19,\n",
       " 'timed_out': False,\n",
       " '_shards': {'total': 1, 'successful': 1, 'skipped': 0, 'failed': 0},\n",
       " 'hits': {'total': {'value': 11, 'relation': 'eq'},\n",
       "  'max_score': None,\n",
       "  'hits': []},\n",
       " 'aggregations': {'sources': {'doc_count_error_upper_bound': 0,\n",
       "   'sum_other_doc_count': 0,\n",
       "   'buckets': [{'key': 'ZDNet', 'doc_count': 8},\n",
       "    {'key': 'TechCrunch', 'doc_count': 2},\n",
       "    {'key': 'Forbes', 'doc_count': 1}]}}}"
      ]
     },
     "execution_count": 14,
     "metadata": {},
     "output_type": "execute_result"
    },
    {
     "data": {
      "application/javascript": [
       "\n",
       "            setTimeout(function() {\n",
       "                var nbb_cell_id = 14;\n",
       "                var nbb_unformatted_code = \"# show lucene query with aggs in body\\nclient.search(index=\\\"article\\\", size=0, q=\\\"snippet:siren\\\", body=body)\";\n",
       "                var nbb_formatted_code = \"# show lucene query with aggs in body\\nclient.search(index=\\\"article\\\", size=0, q=\\\"snippet:siren\\\", body=body)\";\n",
       "                var nbb_cells = Jupyter.notebook.get_cells();\n",
       "                for (var i = 0; i < nbb_cells.length; ++i) {\n",
       "                    if (nbb_cells[i].input_prompt_number == nbb_cell_id) {\n",
       "                        if (nbb_cells[i].get_text() == nbb_unformatted_code) {\n",
       "                             nbb_cells[i].set_text(nbb_formatted_code);\n",
       "                        }\n",
       "                        break;\n",
       "                    }\n",
       "                }\n",
       "            }, 500);\n",
       "            "
      ],
      "text/plain": [
       "<IPython.core.display.Javascript object>"
      ]
     },
     "metadata": {},
     "output_type": "display_data"
    }
   ],
   "source": [
    "# show lucene query with aggs in body\n",
    "client.search(index=\"article\", size=0, q=\"snippet:siren\", body=body)"
   ]
  },
  {
   "cell_type": "code",
   "execution_count": null,
   "id": "229cf095",
   "metadata": {},
   "outputs": [],
   "source": []
  }
 ],
 "metadata": {
  "kernelspec": {
   "display_name": "Python 3 (ipykernel)",
   "language": "python",
   "name": "python3"
  },
  "language_info": {
   "codemirror_mode": {
    "name": "ipython",
    "version": 3
   },
   "file_extension": ".py",
   "mimetype": "text/x-python",
   "name": "python",
   "nbconvert_exporter": "python",
   "pygments_lexer": "ipython3",
   "version": "3.9.5"
  },
  "toc": {
   "base_numbering": 1,
   "nav_menu": {},
   "number_sections": true,
   "sideBar": true,
   "skip_h1_title": false,
   "title_cell": "Table of Contents",
   "title_sidebar": "Contents",
   "toc_cell": false,
   "toc_position": {},
   "toc_section_display": true,
   "toc_window_display": true
  }
 },
 "nbformat": 4,
 "nbformat_minor": 5
}
